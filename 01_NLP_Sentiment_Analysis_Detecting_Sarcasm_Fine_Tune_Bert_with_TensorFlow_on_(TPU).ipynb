{
  "metadata": {
    "kernelspec": {
      "display_name": "Python 3",
      "name": "python3"
    },
    "language_info": {
      "name": "python",
      "version": "3.10.13",
      "mimetype": "text/x-python",
      "codemirror_mode": {
        "name": "ipython",
        "version": 3
      },
      "pygments_lexer": "ipython3",
      "nbconvert_exporter": "python",
      "file_extension": ".py"
    },
    "kaggle": {
      "accelerator": "tpu1vmV38",
      "dataSources": [
        {
          "sourceId": 7312608,
          "sourceType": "datasetVersion",
          "datasetId": 4243361
        }
      ],
      "dockerImageVersionId": 30589,
      "isInternetEnabled": true,
      "language": "python",
      "sourceType": "notebook",
      "isGpuEnabled": false
    },
    "colab": {
      "provenance": []
    },
    "accelerator": "TPU",
    "widgets": {
      "application/vnd.jupyter.widget-state+json": {
        "8aec40d82e24461db67fe3566a826845": {
          "model_module": "@jupyter-widgets/controls",
          "model_name": "HBoxModel",
          "model_module_version": "1.5.0",
          "state": {
            "_dom_classes": [],
            "_model_module": "@jupyter-widgets/controls",
            "_model_module_version": "1.5.0",
            "_model_name": "HBoxModel",
            "_view_count": null,
            "_view_module": "@jupyter-widgets/controls",
            "_view_module_version": "1.5.0",
            "_view_name": "HBoxView",
            "box_style": "",
            "children": [
              "IPY_MODEL_f1a5dd9500a3472090d94f137aaae7d6",
              "IPY_MODEL_9ca630ac6420460798e16c97d15e69f1",
              "IPY_MODEL_45eb12b61539416bb868a7a15953d97a"
            ],
            "layout": "IPY_MODEL_db3e1563f7f44821b68578acb83d5ca0"
          }
        },
        "f1a5dd9500a3472090d94f137aaae7d6": {
          "model_module": "@jupyter-widgets/controls",
          "model_name": "HTMLModel",
          "model_module_version": "1.5.0",
          "state": {
            "_dom_classes": [],
            "_model_module": "@jupyter-widgets/controls",
            "_model_module_version": "1.5.0",
            "_model_name": "HTMLModel",
            "_view_count": null,
            "_view_module": "@jupyter-widgets/controls",
            "_view_module_version": "1.5.0",
            "_view_name": "HTMLView",
            "description": "",
            "description_tooltip": null,
            "layout": "IPY_MODEL_53ee0f244d4d471284f3e45d66a947bb",
            "placeholder": "​",
            "style": "IPY_MODEL_effc0e8b0e3440b59eac3d42d9384c03",
            "value": "config.json: 100%"
          }
        },
        "9ca630ac6420460798e16c97d15e69f1": {
          "model_module": "@jupyter-widgets/controls",
          "model_name": "FloatProgressModel",
          "model_module_version": "1.5.0",
          "state": {
            "_dom_classes": [],
            "_model_module": "@jupyter-widgets/controls",
            "_model_module_version": "1.5.0",
            "_model_name": "FloatProgressModel",
            "_view_count": null,
            "_view_module": "@jupyter-widgets/controls",
            "_view_module_version": "1.5.0",
            "_view_name": "ProgressView",
            "bar_style": "success",
            "description": "",
            "description_tooltip": null,
            "layout": "IPY_MODEL_20806a7506b847b29ba06538b93cf4f7",
            "max": 757,
            "min": 0,
            "orientation": "horizontal",
            "style": "IPY_MODEL_6ae58ea9b33742d288ce2107f048cf06",
            "value": 757
          }
        },
        "45eb12b61539416bb868a7a15953d97a": {
          "model_module": "@jupyter-widgets/controls",
          "model_name": "HTMLModel",
          "model_module_version": "1.5.0",
          "state": {
            "_dom_classes": [],
            "_model_module": "@jupyter-widgets/controls",
            "_model_module_version": "1.5.0",
            "_model_name": "HTMLModel",
            "_view_count": null,
            "_view_module": "@jupyter-widgets/controls",
            "_view_module_version": "1.5.0",
            "_view_name": "HTMLView",
            "description": "",
            "description_tooltip": null,
            "layout": "IPY_MODEL_ae3eb3932d4a436aa9732b38c71017fc",
            "placeholder": "​",
            "style": "IPY_MODEL_a23241237d5c453fb1039ac488ea07b0",
            "value": " 757/757 [00:00&lt;00:00, 47.2kB/s]"
          }
        },
        "db3e1563f7f44821b68578acb83d5ca0": {
          "model_module": "@jupyter-widgets/base",
          "model_name": "LayoutModel",
          "model_module_version": "1.2.0",
          "state": {
            "_model_module": "@jupyter-widgets/base",
            "_model_module_version": "1.2.0",
            "_model_name": "LayoutModel",
            "_view_count": null,
            "_view_module": "@jupyter-widgets/base",
            "_view_module_version": "1.2.0",
            "_view_name": "LayoutView",
            "align_content": null,
            "align_items": null,
            "align_self": null,
            "border": null,
            "bottom": null,
            "display": null,
            "flex": null,
            "flex_flow": null,
            "grid_area": null,
            "grid_auto_columns": null,
            "grid_auto_flow": null,
            "grid_auto_rows": null,
            "grid_column": null,
            "grid_gap": null,
            "grid_row": null,
            "grid_template_areas": null,
            "grid_template_columns": null,
            "grid_template_rows": null,
            "height": null,
            "justify_content": null,
            "justify_items": null,
            "left": null,
            "margin": null,
            "max_height": null,
            "max_width": null,
            "min_height": null,
            "min_width": null,
            "object_fit": null,
            "object_position": null,
            "order": null,
            "overflow": null,
            "overflow_x": null,
            "overflow_y": null,
            "padding": null,
            "right": null,
            "top": null,
            "visibility": null,
            "width": null
          }
        },
        "53ee0f244d4d471284f3e45d66a947bb": {
          "model_module": "@jupyter-widgets/base",
          "model_name": "LayoutModel",
          "model_module_version": "1.2.0",
          "state": {
            "_model_module": "@jupyter-widgets/base",
            "_model_module_version": "1.2.0",
            "_model_name": "LayoutModel",
            "_view_count": null,
            "_view_module": "@jupyter-widgets/base",
            "_view_module_version": "1.2.0",
            "_view_name": "LayoutView",
            "align_content": null,
            "align_items": null,
            "align_self": null,
            "border": null,
            "bottom": null,
            "display": null,
            "flex": null,
            "flex_flow": null,
            "grid_area": null,
            "grid_auto_columns": null,
            "grid_auto_flow": null,
            "grid_auto_rows": null,
            "grid_column": null,
            "grid_gap": null,
            "grid_row": null,
            "grid_template_areas": null,
            "grid_template_columns": null,
            "grid_template_rows": null,
            "height": null,
            "justify_content": null,
            "justify_items": null,
            "left": null,
            "margin": null,
            "max_height": null,
            "max_width": null,
            "min_height": null,
            "min_width": null,
            "object_fit": null,
            "object_position": null,
            "order": null,
            "overflow": null,
            "overflow_x": null,
            "overflow_y": null,
            "padding": null,
            "right": null,
            "top": null,
            "visibility": null,
            "width": null
          }
        },
        "effc0e8b0e3440b59eac3d42d9384c03": {
          "model_module": "@jupyter-widgets/controls",
          "model_name": "DescriptionStyleModel",
          "model_module_version": "1.5.0",
          "state": {
            "_model_module": "@jupyter-widgets/controls",
            "_model_module_version": "1.5.0",
            "_model_name": "DescriptionStyleModel",
            "_view_count": null,
            "_view_module": "@jupyter-widgets/base",
            "_view_module_version": "1.2.0",
            "_view_name": "StyleView",
            "description_width": ""
          }
        },
        "20806a7506b847b29ba06538b93cf4f7": {
          "model_module": "@jupyter-widgets/base",
          "model_name": "LayoutModel",
          "model_module_version": "1.2.0",
          "state": {
            "_model_module": "@jupyter-widgets/base",
            "_model_module_version": "1.2.0",
            "_model_name": "LayoutModel",
            "_view_count": null,
            "_view_module": "@jupyter-widgets/base",
            "_view_module_version": "1.2.0",
            "_view_name": "LayoutView",
            "align_content": null,
            "align_items": null,
            "align_self": null,
            "border": null,
            "bottom": null,
            "display": null,
            "flex": null,
            "flex_flow": null,
            "grid_area": null,
            "grid_auto_columns": null,
            "grid_auto_flow": null,
            "grid_auto_rows": null,
            "grid_column": null,
            "grid_gap": null,
            "grid_row": null,
            "grid_template_areas": null,
            "grid_template_columns": null,
            "grid_template_rows": null,
            "height": null,
            "justify_content": null,
            "justify_items": null,
            "left": null,
            "margin": null,
            "max_height": null,
            "max_width": null,
            "min_height": null,
            "min_width": null,
            "object_fit": null,
            "object_position": null,
            "order": null,
            "overflow": null,
            "overflow_x": null,
            "overflow_y": null,
            "padding": null,
            "right": null,
            "top": null,
            "visibility": null,
            "width": null
          }
        },
        "6ae58ea9b33742d288ce2107f048cf06": {
          "model_module": "@jupyter-widgets/controls",
          "model_name": "ProgressStyleModel",
          "model_module_version": "1.5.0",
          "state": {
            "_model_module": "@jupyter-widgets/controls",
            "_model_module_version": "1.5.0",
            "_model_name": "ProgressStyleModel",
            "_view_count": null,
            "_view_module": "@jupyter-widgets/base",
            "_view_module_version": "1.2.0",
            "_view_name": "StyleView",
            "bar_color": null,
            "description_width": ""
          }
        },
        "ae3eb3932d4a436aa9732b38c71017fc": {
          "model_module": "@jupyter-widgets/base",
          "model_name": "LayoutModel",
          "model_module_version": "1.2.0",
          "state": {
            "_model_module": "@jupyter-widgets/base",
            "_model_module_version": "1.2.0",
            "_model_name": "LayoutModel",
            "_view_count": null,
            "_view_module": "@jupyter-widgets/base",
            "_view_module_version": "1.2.0",
            "_view_name": "LayoutView",
            "align_content": null,
            "align_items": null,
            "align_self": null,
            "border": null,
            "bottom": null,
            "display": null,
            "flex": null,
            "flex_flow": null,
            "grid_area": null,
            "grid_auto_columns": null,
            "grid_auto_flow": null,
            "grid_auto_rows": null,
            "grid_column": null,
            "grid_gap": null,
            "grid_row": null,
            "grid_template_areas": null,
            "grid_template_columns": null,
            "grid_template_rows": null,
            "height": null,
            "justify_content": null,
            "justify_items": null,
            "left": null,
            "margin": null,
            "max_height": null,
            "max_width": null,
            "min_height": null,
            "min_width": null,
            "object_fit": null,
            "object_position": null,
            "order": null,
            "overflow": null,
            "overflow_x": null,
            "overflow_y": null,
            "padding": null,
            "right": null,
            "top": null,
            "visibility": null,
            "width": null
          }
        },
        "a23241237d5c453fb1039ac488ea07b0": {
          "model_module": "@jupyter-widgets/controls",
          "model_name": "DescriptionStyleModel",
          "model_module_version": "1.5.0",
          "state": {
            "_model_module": "@jupyter-widgets/controls",
            "_model_module_version": "1.5.0",
            "_model_name": "DescriptionStyleModel",
            "_view_count": null,
            "_view_module": "@jupyter-widgets/base",
            "_view_module_version": "1.2.0",
            "_view_name": "StyleView",
            "description_width": ""
          }
        },
        "3f6c5f982f8a4f74a1aa1fed5fc6375c": {
          "model_module": "@jupyter-widgets/controls",
          "model_name": "HBoxModel",
          "model_module_version": "1.5.0",
          "state": {
            "_dom_classes": [],
            "_model_module": "@jupyter-widgets/controls",
            "_model_module_version": "1.5.0",
            "_model_name": "HBoxModel",
            "_view_count": null,
            "_view_module": "@jupyter-widgets/controls",
            "_view_module_version": "1.5.0",
            "_view_name": "HBoxView",
            "box_style": "",
            "children": [
              "IPY_MODEL_47499924f00642d68f7848f3430ce4cf",
              "IPY_MODEL_fa622b98a885420183f21e07423a2285",
              "IPY_MODEL_c21dd7cb03ef4c7eb149f5a8df7cf9e3"
            ],
            "layout": "IPY_MODEL_7a86d3b32d0147c3ac71f4a46ba49ffa"
          }
        },
        "47499924f00642d68f7848f3430ce4cf": {
          "model_module": "@jupyter-widgets/controls",
          "model_name": "HTMLModel",
          "model_module_version": "1.5.0",
          "state": {
            "_dom_classes": [],
            "_model_module": "@jupyter-widgets/controls",
            "_model_module_version": "1.5.0",
            "_model_name": "HTMLModel",
            "_view_count": null,
            "_view_module": "@jupyter-widgets/controls",
            "_view_module_version": "1.5.0",
            "_view_name": "HTMLView",
            "description": "",
            "description_tooltip": null,
            "layout": "IPY_MODEL_1e1fa09545e048cb818939b5a5088eff",
            "placeholder": "​",
            "style": "IPY_MODEL_3d7d0d0f277f42df8cd4070edb6c19fa",
            "value": "tf_model.h5: 100%"
          }
        },
        "fa622b98a885420183f21e07423a2285": {
          "model_module": "@jupyter-widgets/controls",
          "model_name": "FloatProgressModel",
          "model_module_version": "1.5.0",
          "state": {
            "_dom_classes": [],
            "_model_module": "@jupyter-widgets/controls",
            "_model_module_version": "1.5.0",
            "_model_name": "FloatProgressModel",
            "_view_count": null,
            "_view_module": "@jupyter-widgets/controls",
            "_view_module_version": "1.5.0",
            "_view_name": "ProgressView",
            "bar_style": "success",
            "description": "",
            "description_tooltip": null,
            "layout": "IPY_MODEL_fdb694bb76cb405298389522e08cd65e",
            "max": 651632640,
            "min": 0,
            "orientation": "horizontal",
            "style": "IPY_MODEL_9ecb1219b36249b19a1c56146061c2a3",
            "value": 651632640
          }
        },
        "c21dd7cb03ef4c7eb149f5a8df7cf9e3": {
          "model_module": "@jupyter-widgets/controls",
          "model_name": "HTMLModel",
          "model_module_version": "1.5.0",
          "state": {
            "_dom_classes": [],
            "_model_module": "@jupyter-widgets/controls",
            "_model_module_version": "1.5.0",
            "_model_name": "HTMLModel",
            "_view_count": null,
            "_view_module": "@jupyter-widgets/controls",
            "_view_module_version": "1.5.0",
            "_view_name": "HTMLView",
            "description": "",
            "description_tooltip": null,
            "layout": "IPY_MODEL_042bb53594a1442dae46a3ef6900a7b1",
            "placeholder": "​",
            "style": "IPY_MODEL_d09af9bcb40640a3831ddb3fb7d3e9cb",
            "value": " 652M/652M [00:05&lt;00:00, 139MB/s]"
          }
        },
        "7a86d3b32d0147c3ac71f4a46ba49ffa": {
          "model_module": "@jupyter-widgets/base",
          "model_name": "LayoutModel",
          "model_module_version": "1.2.0",
          "state": {
            "_model_module": "@jupyter-widgets/base",
            "_model_module_version": "1.2.0",
            "_model_name": "LayoutModel",
            "_view_count": null,
            "_view_module": "@jupyter-widgets/base",
            "_view_module_version": "1.2.0",
            "_view_name": "LayoutView",
            "align_content": null,
            "align_items": null,
            "align_self": null,
            "border": null,
            "bottom": null,
            "display": null,
            "flex": null,
            "flex_flow": null,
            "grid_area": null,
            "grid_auto_columns": null,
            "grid_auto_flow": null,
            "grid_auto_rows": null,
            "grid_column": null,
            "grid_gap": null,
            "grid_row": null,
            "grid_template_areas": null,
            "grid_template_columns": null,
            "grid_template_rows": null,
            "height": null,
            "justify_content": null,
            "justify_items": null,
            "left": null,
            "margin": null,
            "max_height": null,
            "max_width": null,
            "min_height": null,
            "min_width": null,
            "object_fit": null,
            "object_position": null,
            "order": null,
            "overflow": null,
            "overflow_x": null,
            "overflow_y": null,
            "padding": null,
            "right": null,
            "top": null,
            "visibility": null,
            "width": null
          }
        },
        "1e1fa09545e048cb818939b5a5088eff": {
          "model_module": "@jupyter-widgets/base",
          "model_name": "LayoutModel",
          "model_module_version": "1.2.0",
          "state": {
            "_model_module": "@jupyter-widgets/base",
            "_model_module_version": "1.2.0",
            "_model_name": "LayoutModel",
            "_view_count": null,
            "_view_module": "@jupyter-widgets/base",
            "_view_module_version": "1.2.0",
            "_view_name": "LayoutView",
            "align_content": null,
            "align_items": null,
            "align_self": null,
            "border": null,
            "bottom": null,
            "display": null,
            "flex": null,
            "flex_flow": null,
            "grid_area": null,
            "grid_auto_columns": null,
            "grid_auto_flow": null,
            "grid_auto_rows": null,
            "grid_column": null,
            "grid_gap": null,
            "grid_row": null,
            "grid_template_areas": null,
            "grid_template_columns": null,
            "grid_template_rows": null,
            "height": null,
            "justify_content": null,
            "justify_items": null,
            "left": null,
            "margin": null,
            "max_height": null,
            "max_width": null,
            "min_height": null,
            "min_width": null,
            "object_fit": null,
            "object_position": null,
            "order": null,
            "overflow": null,
            "overflow_x": null,
            "overflow_y": null,
            "padding": null,
            "right": null,
            "top": null,
            "visibility": null,
            "width": null
          }
        },
        "3d7d0d0f277f42df8cd4070edb6c19fa": {
          "model_module": "@jupyter-widgets/controls",
          "model_name": "DescriptionStyleModel",
          "model_module_version": "1.5.0",
          "state": {
            "_model_module": "@jupyter-widgets/controls",
            "_model_module_version": "1.5.0",
            "_model_name": "DescriptionStyleModel",
            "_view_count": null,
            "_view_module": "@jupyter-widgets/base",
            "_view_module_version": "1.2.0",
            "_view_name": "StyleView",
            "description_width": ""
          }
        },
        "fdb694bb76cb405298389522e08cd65e": {
          "model_module": "@jupyter-widgets/base",
          "model_name": "LayoutModel",
          "model_module_version": "1.2.0",
          "state": {
            "_model_module": "@jupyter-widgets/base",
            "_model_module_version": "1.2.0",
            "_model_name": "LayoutModel",
            "_view_count": null,
            "_view_module": "@jupyter-widgets/base",
            "_view_module_version": "1.2.0",
            "_view_name": "LayoutView",
            "align_content": null,
            "align_items": null,
            "align_self": null,
            "border": null,
            "bottom": null,
            "display": null,
            "flex": null,
            "flex_flow": null,
            "grid_area": null,
            "grid_auto_columns": null,
            "grid_auto_flow": null,
            "grid_auto_rows": null,
            "grid_column": null,
            "grid_gap": null,
            "grid_row": null,
            "grid_template_areas": null,
            "grid_template_columns": null,
            "grid_template_rows": null,
            "height": null,
            "justify_content": null,
            "justify_items": null,
            "left": null,
            "margin": null,
            "max_height": null,
            "max_width": null,
            "min_height": null,
            "min_width": null,
            "object_fit": null,
            "object_position": null,
            "order": null,
            "overflow": null,
            "overflow_x": null,
            "overflow_y": null,
            "padding": null,
            "right": null,
            "top": null,
            "visibility": null,
            "width": null
          }
        },
        "9ecb1219b36249b19a1c56146061c2a3": {
          "model_module": "@jupyter-widgets/controls",
          "model_name": "ProgressStyleModel",
          "model_module_version": "1.5.0",
          "state": {
            "_model_module": "@jupyter-widgets/controls",
            "_model_module_version": "1.5.0",
            "_model_name": "ProgressStyleModel",
            "_view_count": null,
            "_view_module": "@jupyter-widgets/base",
            "_view_module_version": "1.2.0",
            "_view_name": "StyleView",
            "bar_color": null,
            "description_width": ""
          }
        },
        "042bb53594a1442dae46a3ef6900a7b1": {
          "model_module": "@jupyter-widgets/base",
          "model_name": "LayoutModel",
          "model_module_version": "1.2.0",
          "state": {
            "_model_module": "@jupyter-widgets/base",
            "_model_module_version": "1.2.0",
            "_model_name": "LayoutModel",
            "_view_count": null,
            "_view_module": "@jupyter-widgets/base",
            "_view_module_version": "1.2.0",
            "_view_name": "LayoutView",
            "align_content": null,
            "align_items": null,
            "align_self": null,
            "border": null,
            "bottom": null,
            "display": null,
            "flex": null,
            "flex_flow": null,
            "grid_area": null,
            "grid_auto_columns": null,
            "grid_auto_flow": null,
            "grid_auto_rows": null,
            "grid_column": null,
            "grid_gap": null,
            "grid_row": null,
            "grid_template_areas": null,
            "grid_template_columns": null,
            "grid_template_rows": null,
            "height": null,
            "justify_content": null,
            "justify_items": null,
            "left": null,
            "margin": null,
            "max_height": null,
            "max_width": null,
            "min_height": null,
            "min_width": null,
            "object_fit": null,
            "object_position": null,
            "order": null,
            "overflow": null,
            "overflow_x": null,
            "overflow_y": null,
            "padding": null,
            "right": null,
            "top": null,
            "visibility": null,
            "width": null
          }
        },
        "d09af9bcb40640a3831ddb3fb7d3e9cb": {
          "model_module": "@jupyter-widgets/controls",
          "model_name": "DescriptionStyleModel",
          "model_module_version": "1.5.0",
          "state": {
            "_model_module": "@jupyter-widgets/controls",
            "_model_module_version": "1.5.0",
            "_model_name": "DescriptionStyleModel",
            "_view_count": null,
            "_view_module": "@jupyter-widgets/base",
            "_view_module_version": "1.2.0",
            "_view_name": "StyleView",
            "description_width": ""
          }
        },
        "5124375fdcae48648a83ee51d875167d": {
          "model_module": "@jupyter-widgets/controls",
          "model_name": "HBoxModel",
          "model_module_version": "1.5.0",
          "state": {
            "_dom_classes": [],
            "_model_module": "@jupyter-widgets/controls",
            "_model_module_version": "1.5.0",
            "_model_name": "HBoxModel",
            "_view_count": null,
            "_view_module": "@jupyter-widgets/controls",
            "_view_module_version": "1.5.0",
            "_view_name": "HBoxView",
            "box_style": "",
            "children": [
              "IPY_MODEL_87a3fec087e042c3a72b53ac3e54fd05",
              "IPY_MODEL_b8acf648e9914789a69b334079e7aa6f",
              "IPY_MODEL_d115809c4d8f48e5986dc5e753aca1bf"
            ],
            "layout": "IPY_MODEL_073135e7a1294fee9e5c0f223d7e0a73"
          }
        },
        "87a3fec087e042c3a72b53ac3e54fd05": {
          "model_module": "@jupyter-widgets/controls",
          "model_name": "HTMLModel",
          "model_module_version": "1.5.0",
          "state": {
            "_dom_classes": [],
            "_model_module": "@jupyter-widgets/controls",
            "_model_module_version": "1.5.0",
            "_model_name": "HTMLModel",
            "_view_count": null,
            "_view_module": "@jupyter-widgets/controls",
            "_view_module_version": "1.5.0",
            "_view_name": "HTMLView",
            "description": "",
            "description_tooltip": null,
            "layout": "IPY_MODEL_581a9f170e0448edbc2df77174d1882d",
            "placeholder": "​",
            "style": "IPY_MODEL_effa925be1ad44b8ad8f5cb515d68cb0",
            "value": "tokenizer_config.json: 100%"
          }
        },
        "b8acf648e9914789a69b334079e7aa6f": {
          "model_module": "@jupyter-widgets/controls",
          "model_name": "FloatProgressModel",
          "model_module_version": "1.5.0",
          "state": {
            "_dom_classes": [],
            "_model_module": "@jupyter-widgets/controls",
            "_model_module_version": "1.5.0",
            "_model_name": "FloatProgressModel",
            "_view_count": null,
            "_view_module": "@jupyter-widgets/controls",
            "_view_module_version": "1.5.0",
            "_view_name": "ProgressView",
            "bar_style": "success",
            "description": "",
            "description_tooltip": null,
            "layout": "IPY_MODEL_7ff302d2adea42c8b550a77c65214ed1",
            "max": 439,
            "min": 0,
            "orientation": "horizontal",
            "style": "IPY_MODEL_26ae92ba14234a299c00f9f02c170d52",
            "value": 439
          }
        },
        "d115809c4d8f48e5986dc5e753aca1bf": {
          "model_module": "@jupyter-widgets/controls",
          "model_name": "HTMLModel",
          "model_module_version": "1.5.0",
          "state": {
            "_dom_classes": [],
            "_model_module": "@jupyter-widgets/controls",
            "_model_module_version": "1.5.0",
            "_model_name": "HTMLModel",
            "_view_count": null,
            "_view_module": "@jupyter-widgets/controls",
            "_view_module_version": "1.5.0",
            "_view_name": "HTMLView",
            "description": "",
            "description_tooltip": null,
            "layout": "IPY_MODEL_f08b4572da084cae9cee42f53573f361",
            "placeholder": "​",
            "style": "IPY_MODEL_04bb85529c8d41c8959ab5a0ab91c9f7",
            "value": " 439/439 [00:00&lt;00:00, 15.9kB/s]"
          }
        },
        "073135e7a1294fee9e5c0f223d7e0a73": {
          "model_module": "@jupyter-widgets/base",
          "model_name": "LayoutModel",
          "model_module_version": "1.2.0",
          "state": {
            "_model_module": "@jupyter-widgets/base",
            "_model_module_version": "1.2.0",
            "_model_name": "LayoutModel",
            "_view_count": null,
            "_view_module": "@jupyter-widgets/base",
            "_view_module_version": "1.2.0",
            "_view_name": "LayoutView",
            "align_content": null,
            "align_items": null,
            "align_self": null,
            "border": null,
            "bottom": null,
            "display": null,
            "flex": null,
            "flex_flow": null,
            "grid_area": null,
            "grid_auto_columns": null,
            "grid_auto_flow": null,
            "grid_auto_rows": null,
            "grid_column": null,
            "grid_gap": null,
            "grid_row": null,
            "grid_template_areas": null,
            "grid_template_columns": null,
            "grid_template_rows": null,
            "height": null,
            "justify_content": null,
            "justify_items": null,
            "left": null,
            "margin": null,
            "max_height": null,
            "max_width": null,
            "min_height": null,
            "min_width": null,
            "object_fit": null,
            "object_position": null,
            "order": null,
            "overflow": null,
            "overflow_x": null,
            "overflow_y": null,
            "padding": null,
            "right": null,
            "top": null,
            "visibility": null,
            "width": null
          }
        },
        "581a9f170e0448edbc2df77174d1882d": {
          "model_module": "@jupyter-widgets/base",
          "model_name": "LayoutModel",
          "model_module_version": "1.2.0",
          "state": {
            "_model_module": "@jupyter-widgets/base",
            "_model_module_version": "1.2.0",
            "_model_name": "LayoutModel",
            "_view_count": null,
            "_view_module": "@jupyter-widgets/base",
            "_view_module_version": "1.2.0",
            "_view_name": "LayoutView",
            "align_content": null,
            "align_items": null,
            "align_self": null,
            "border": null,
            "bottom": null,
            "display": null,
            "flex": null,
            "flex_flow": null,
            "grid_area": null,
            "grid_auto_columns": null,
            "grid_auto_flow": null,
            "grid_auto_rows": null,
            "grid_column": null,
            "grid_gap": null,
            "grid_row": null,
            "grid_template_areas": null,
            "grid_template_columns": null,
            "grid_template_rows": null,
            "height": null,
            "justify_content": null,
            "justify_items": null,
            "left": null,
            "margin": null,
            "max_height": null,
            "max_width": null,
            "min_height": null,
            "min_width": null,
            "object_fit": null,
            "object_position": null,
            "order": null,
            "overflow": null,
            "overflow_x": null,
            "overflow_y": null,
            "padding": null,
            "right": null,
            "top": null,
            "visibility": null,
            "width": null
          }
        },
        "effa925be1ad44b8ad8f5cb515d68cb0": {
          "model_module": "@jupyter-widgets/controls",
          "model_name": "DescriptionStyleModel",
          "model_module_version": "1.5.0",
          "state": {
            "_model_module": "@jupyter-widgets/controls",
            "_model_module_version": "1.5.0",
            "_model_name": "DescriptionStyleModel",
            "_view_count": null,
            "_view_module": "@jupyter-widgets/base",
            "_view_module_version": "1.2.0",
            "_view_name": "StyleView",
            "description_width": ""
          }
        },
        "7ff302d2adea42c8b550a77c65214ed1": {
          "model_module": "@jupyter-widgets/base",
          "model_name": "LayoutModel",
          "model_module_version": "1.2.0",
          "state": {
            "_model_module": "@jupyter-widgets/base",
            "_model_module_version": "1.2.0",
            "_model_name": "LayoutModel",
            "_view_count": null,
            "_view_module": "@jupyter-widgets/base",
            "_view_module_version": "1.2.0",
            "_view_name": "LayoutView",
            "align_content": null,
            "align_items": null,
            "align_self": null,
            "border": null,
            "bottom": null,
            "display": null,
            "flex": null,
            "flex_flow": null,
            "grid_area": null,
            "grid_auto_columns": null,
            "grid_auto_flow": null,
            "grid_auto_rows": null,
            "grid_column": null,
            "grid_gap": null,
            "grid_row": null,
            "grid_template_areas": null,
            "grid_template_columns": null,
            "grid_template_rows": null,
            "height": null,
            "justify_content": null,
            "justify_items": null,
            "left": null,
            "margin": null,
            "max_height": null,
            "max_width": null,
            "min_height": null,
            "min_width": null,
            "object_fit": null,
            "object_position": null,
            "order": null,
            "overflow": null,
            "overflow_x": null,
            "overflow_y": null,
            "padding": null,
            "right": null,
            "top": null,
            "visibility": null,
            "width": null
          }
        },
        "26ae92ba14234a299c00f9f02c170d52": {
          "model_module": "@jupyter-widgets/controls",
          "model_name": "ProgressStyleModel",
          "model_module_version": "1.5.0",
          "state": {
            "_model_module": "@jupyter-widgets/controls",
            "_model_module_version": "1.5.0",
            "_model_name": "ProgressStyleModel",
            "_view_count": null,
            "_view_module": "@jupyter-widgets/base",
            "_view_module_version": "1.2.0",
            "_view_name": "StyleView",
            "bar_color": null,
            "description_width": ""
          }
        },
        "f08b4572da084cae9cee42f53573f361": {
          "model_module": "@jupyter-widgets/base",
          "model_name": "LayoutModel",
          "model_module_version": "1.2.0",
          "state": {
            "_model_module": "@jupyter-widgets/base",
            "_model_module_version": "1.2.0",
            "_model_name": "LayoutModel",
            "_view_count": null,
            "_view_module": "@jupyter-widgets/base",
            "_view_module_version": "1.2.0",
            "_view_name": "LayoutView",
            "align_content": null,
            "align_items": null,
            "align_self": null,
            "border": null,
            "bottom": null,
            "display": null,
            "flex": null,
            "flex_flow": null,
            "grid_area": null,
            "grid_auto_columns": null,
            "grid_auto_flow": null,
            "grid_auto_rows": null,
            "grid_column": null,
            "grid_gap": null,
            "grid_row": null,
            "grid_template_areas": null,
            "grid_template_columns": null,
            "grid_template_rows": null,
            "height": null,
            "justify_content": null,
            "justify_items": null,
            "left": null,
            "margin": null,
            "max_height": null,
            "max_width": null,
            "min_height": null,
            "min_width": null,
            "object_fit": null,
            "object_position": null,
            "order": null,
            "overflow": null,
            "overflow_x": null,
            "overflow_y": null,
            "padding": null,
            "right": null,
            "top": null,
            "visibility": null,
            "width": null
          }
        },
        "04bb85529c8d41c8959ab5a0ab91c9f7": {
          "model_module": "@jupyter-widgets/controls",
          "model_name": "DescriptionStyleModel",
          "model_module_version": "1.5.0",
          "state": {
            "_model_module": "@jupyter-widgets/controls",
            "_model_module_version": "1.5.0",
            "_model_name": "DescriptionStyleModel",
            "_view_count": null,
            "_view_module": "@jupyter-widgets/base",
            "_view_module_version": "1.2.0",
            "_view_name": "StyleView",
            "description_width": ""
          }
        },
        "62566d30eb6a4d03b05b8be982bc1ba9": {
          "model_module": "@jupyter-widgets/controls",
          "model_name": "HBoxModel",
          "model_module_version": "1.5.0",
          "state": {
            "_dom_classes": [],
            "_model_module": "@jupyter-widgets/controls",
            "_model_module_version": "1.5.0",
            "_model_name": "HBoxModel",
            "_view_count": null,
            "_view_module": "@jupyter-widgets/controls",
            "_view_module_version": "1.5.0",
            "_view_name": "HBoxView",
            "box_style": "",
            "children": [
              "IPY_MODEL_9a1250ae7c2d4011bde0698ea4fdf0af",
              "IPY_MODEL_d5401eedb49b4001b8df91af2b31405c",
              "IPY_MODEL_44f3a72b1c3648399eeafe5cc6ca4de1"
            ],
            "layout": "IPY_MODEL_26f1663a23dd46d186c59bb8a948d350"
          }
        },
        "9a1250ae7c2d4011bde0698ea4fdf0af": {
          "model_module": "@jupyter-widgets/controls",
          "model_name": "HTMLModel",
          "model_module_version": "1.5.0",
          "state": {
            "_dom_classes": [],
            "_model_module": "@jupyter-widgets/controls",
            "_model_module_version": "1.5.0",
            "_model_name": "HTMLModel",
            "_view_count": null,
            "_view_module": "@jupyter-widgets/controls",
            "_view_module_version": "1.5.0",
            "_view_name": "HTMLView",
            "description": "",
            "description_tooltip": null,
            "layout": "IPY_MODEL_c534d1b7149b4421a2600fd396272126",
            "placeholder": "​",
            "style": "IPY_MODEL_360cc9afc7174569a8fd7068a12836ad",
            "value": "vocab.txt: 100%"
          }
        },
        "d5401eedb49b4001b8df91af2b31405c": {
          "model_module": "@jupyter-widgets/controls",
          "model_name": "FloatProgressModel",
          "model_module_version": "1.5.0",
          "state": {
            "_dom_classes": [],
            "_model_module": "@jupyter-widgets/controls",
            "_model_module_version": "1.5.0",
            "_model_name": "FloatProgressModel",
            "_view_count": null,
            "_view_module": "@jupyter-widgets/controls",
            "_view_module_version": "1.5.0",
            "_view_name": "ProgressView",
            "bar_style": "success",
            "description": "",
            "description_tooltip": null,
            "layout": "IPY_MODEL_6f5a5dec42e54f5c82f2ed806ddc8345",
            "max": 1099714,
            "min": 0,
            "orientation": "horizontal",
            "style": "IPY_MODEL_d6e4c69656f545138a98b7bdb84f9260",
            "value": 1099714
          }
        },
        "44f3a72b1c3648399eeafe5cc6ca4de1": {
          "model_module": "@jupyter-widgets/controls",
          "model_name": "HTMLModel",
          "model_module_version": "1.5.0",
          "state": {
            "_dom_classes": [],
            "_model_module": "@jupyter-widgets/controls",
            "_model_module_version": "1.5.0",
            "_model_name": "HTMLModel",
            "_view_count": null,
            "_view_module": "@jupyter-widgets/controls",
            "_view_module_version": "1.5.0",
            "_view_name": "HTMLView",
            "description": "",
            "description_tooltip": null,
            "layout": "IPY_MODEL_f61af9eadef74ffd8e476699ae7aa5f1",
            "placeholder": "​",
            "style": "IPY_MODEL_88b4b3f3ba4d4fc294cb0a59523be893",
            "value": " 1.10M/1.10M [00:00&lt;00:00, 5.53MB/s]"
          }
        },
        "26f1663a23dd46d186c59bb8a948d350": {
          "model_module": "@jupyter-widgets/base",
          "model_name": "LayoutModel",
          "model_module_version": "1.2.0",
          "state": {
            "_model_module": "@jupyter-widgets/base",
            "_model_module_version": "1.2.0",
            "_model_name": "LayoutModel",
            "_view_count": null,
            "_view_module": "@jupyter-widgets/base",
            "_view_module_version": "1.2.0",
            "_view_name": "LayoutView",
            "align_content": null,
            "align_items": null,
            "align_self": null,
            "border": null,
            "bottom": null,
            "display": null,
            "flex": null,
            "flex_flow": null,
            "grid_area": null,
            "grid_auto_columns": null,
            "grid_auto_flow": null,
            "grid_auto_rows": null,
            "grid_column": null,
            "grid_gap": null,
            "grid_row": null,
            "grid_template_areas": null,
            "grid_template_columns": null,
            "grid_template_rows": null,
            "height": null,
            "justify_content": null,
            "justify_items": null,
            "left": null,
            "margin": null,
            "max_height": null,
            "max_width": null,
            "min_height": null,
            "min_width": null,
            "object_fit": null,
            "object_position": null,
            "order": null,
            "overflow": null,
            "overflow_x": null,
            "overflow_y": null,
            "padding": null,
            "right": null,
            "top": null,
            "visibility": null,
            "width": null
          }
        },
        "c534d1b7149b4421a2600fd396272126": {
          "model_module": "@jupyter-widgets/base",
          "model_name": "LayoutModel",
          "model_module_version": "1.2.0",
          "state": {
            "_model_module": "@jupyter-widgets/base",
            "_model_module_version": "1.2.0",
            "_model_name": "LayoutModel",
            "_view_count": null,
            "_view_module": "@jupyter-widgets/base",
            "_view_module_version": "1.2.0",
            "_view_name": "LayoutView",
            "align_content": null,
            "align_items": null,
            "align_self": null,
            "border": null,
            "bottom": null,
            "display": null,
            "flex": null,
            "flex_flow": null,
            "grid_area": null,
            "grid_auto_columns": null,
            "grid_auto_flow": null,
            "grid_auto_rows": null,
            "grid_column": null,
            "grid_gap": null,
            "grid_row": null,
            "grid_template_areas": null,
            "grid_template_columns": null,
            "grid_template_rows": null,
            "height": null,
            "justify_content": null,
            "justify_items": null,
            "left": null,
            "margin": null,
            "max_height": null,
            "max_width": null,
            "min_height": null,
            "min_width": null,
            "object_fit": null,
            "object_position": null,
            "order": null,
            "overflow": null,
            "overflow_x": null,
            "overflow_y": null,
            "padding": null,
            "right": null,
            "top": null,
            "visibility": null,
            "width": null
          }
        },
        "360cc9afc7174569a8fd7068a12836ad": {
          "model_module": "@jupyter-widgets/controls",
          "model_name": "DescriptionStyleModel",
          "model_module_version": "1.5.0",
          "state": {
            "_model_module": "@jupyter-widgets/controls",
            "_model_module_version": "1.5.0",
            "_model_name": "DescriptionStyleModel",
            "_view_count": null,
            "_view_module": "@jupyter-widgets/base",
            "_view_module_version": "1.2.0",
            "_view_name": "StyleView",
            "description_width": ""
          }
        },
        "6f5a5dec42e54f5c82f2ed806ddc8345": {
          "model_module": "@jupyter-widgets/base",
          "model_name": "LayoutModel",
          "model_module_version": "1.2.0",
          "state": {
            "_model_module": "@jupyter-widgets/base",
            "_model_module_version": "1.2.0",
            "_model_name": "LayoutModel",
            "_view_count": null,
            "_view_module": "@jupyter-widgets/base",
            "_view_module_version": "1.2.0",
            "_view_name": "LayoutView",
            "align_content": null,
            "align_items": null,
            "align_self": null,
            "border": null,
            "bottom": null,
            "display": null,
            "flex": null,
            "flex_flow": null,
            "grid_area": null,
            "grid_auto_columns": null,
            "grid_auto_flow": null,
            "grid_auto_rows": null,
            "grid_column": null,
            "grid_gap": null,
            "grid_row": null,
            "grid_template_areas": null,
            "grid_template_columns": null,
            "grid_template_rows": null,
            "height": null,
            "justify_content": null,
            "justify_items": null,
            "left": null,
            "margin": null,
            "max_height": null,
            "max_width": null,
            "min_height": null,
            "min_width": null,
            "object_fit": null,
            "object_position": null,
            "order": null,
            "overflow": null,
            "overflow_x": null,
            "overflow_y": null,
            "padding": null,
            "right": null,
            "top": null,
            "visibility": null,
            "width": null
          }
        },
        "d6e4c69656f545138a98b7bdb84f9260": {
          "model_module": "@jupyter-widgets/controls",
          "model_name": "ProgressStyleModel",
          "model_module_version": "1.5.0",
          "state": {
            "_model_module": "@jupyter-widgets/controls",
            "_model_module_version": "1.5.0",
            "_model_name": "ProgressStyleModel",
            "_view_count": null,
            "_view_module": "@jupyter-widgets/base",
            "_view_module_version": "1.2.0",
            "_view_name": "StyleView",
            "bar_color": null,
            "description_width": ""
          }
        },
        "f61af9eadef74ffd8e476699ae7aa5f1": {
          "model_module": "@jupyter-widgets/base",
          "model_name": "LayoutModel",
          "model_module_version": "1.2.0",
          "state": {
            "_model_module": "@jupyter-widgets/base",
            "_model_module_version": "1.2.0",
            "_model_name": "LayoutModel",
            "_view_count": null,
            "_view_module": "@jupyter-widgets/base",
            "_view_module_version": "1.2.0",
            "_view_name": "LayoutView",
            "align_content": null,
            "align_items": null,
            "align_self": null,
            "border": null,
            "bottom": null,
            "display": null,
            "flex": null,
            "flex_flow": null,
            "grid_area": null,
            "grid_auto_columns": null,
            "grid_auto_flow": null,
            "grid_auto_rows": null,
            "grid_column": null,
            "grid_gap": null,
            "grid_row": null,
            "grid_template_areas": null,
            "grid_template_columns": null,
            "grid_template_rows": null,
            "height": null,
            "justify_content": null,
            "justify_items": null,
            "left": null,
            "margin": null,
            "max_height": null,
            "max_width": null,
            "min_height": null,
            "min_width": null,
            "object_fit": null,
            "object_position": null,
            "order": null,
            "overflow": null,
            "overflow_x": null,
            "overflow_y": null,
            "padding": null,
            "right": null,
            "top": null,
            "visibility": null,
            "width": null
          }
        },
        "88b4b3f3ba4d4fc294cb0a59523be893": {
          "model_module": "@jupyter-widgets/controls",
          "model_name": "DescriptionStyleModel",
          "model_module_version": "1.5.0",
          "state": {
            "_model_module": "@jupyter-widgets/controls",
            "_model_module_version": "1.5.0",
            "_model_name": "DescriptionStyleModel",
            "_view_count": null,
            "_view_module": "@jupyter-widgets/base",
            "_view_module_version": "1.2.0",
            "_view_name": "StyleView",
            "description_width": ""
          }
        },
        "9aaec8382a0848089dd291241b477b45": {
          "model_module": "@jupyter-widgets/controls",
          "model_name": "HBoxModel",
          "model_module_version": "1.5.0",
          "state": {
            "_dom_classes": [],
            "_model_module": "@jupyter-widgets/controls",
            "_model_module_version": "1.5.0",
            "_model_name": "HBoxModel",
            "_view_count": null,
            "_view_module": "@jupyter-widgets/controls",
            "_view_module_version": "1.5.0",
            "_view_name": "HBoxView",
            "box_style": "",
            "children": [
              "IPY_MODEL_925f946a319e434dbd3f326eef4474ae",
              "IPY_MODEL_3acfa7069ae547ce956de40c303227cf",
              "IPY_MODEL_3f43b460382b4a8b8b27be7ed03c7204"
            ],
            "layout": "IPY_MODEL_e2ba337b78e748419fe477002ca813cf"
          }
        },
        "925f946a319e434dbd3f326eef4474ae": {
          "model_module": "@jupyter-widgets/controls",
          "model_name": "HTMLModel",
          "model_module_version": "1.5.0",
          "state": {
            "_dom_classes": [],
            "_model_module": "@jupyter-widgets/controls",
            "_model_module_version": "1.5.0",
            "_model_name": "HTMLModel",
            "_view_count": null,
            "_view_module": "@jupyter-widgets/controls",
            "_view_module_version": "1.5.0",
            "_view_name": "HTMLView",
            "description": "",
            "description_tooltip": null,
            "layout": "IPY_MODEL_7bd24b3b5b8a433bbae9abf2f9c108c6",
            "placeholder": "​",
            "style": "IPY_MODEL_a310923d511a42f7aa34f8215b3ea3a0",
            "value": "special_tokens_map.json: 100%"
          }
        },
        "3acfa7069ae547ce956de40c303227cf": {
          "model_module": "@jupyter-widgets/controls",
          "model_name": "FloatProgressModel",
          "model_module_version": "1.5.0",
          "state": {
            "_dom_classes": [],
            "_model_module": "@jupyter-widgets/controls",
            "_model_module_version": "1.5.0",
            "_model_name": "FloatProgressModel",
            "_view_count": null,
            "_view_module": "@jupyter-widgets/controls",
            "_view_module_version": "1.5.0",
            "_view_name": "ProgressView",
            "bar_style": "success",
            "description": "",
            "description_tooltip": null,
            "layout": "IPY_MODEL_6ea0df885dac40a98f720ecf95c5337d",
            "max": 112,
            "min": 0,
            "orientation": "horizontal",
            "style": "IPY_MODEL_6454f37915cf4800a5c793af960cc246",
            "value": 112
          }
        },
        "3f43b460382b4a8b8b27be7ed03c7204": {
          "model_module": "@jupyter-widgets/controls",
          "model_name": "HTMLModel",
          "model_module_version": "1.5.0",
          "state": {
            "_dom_classes": [],
            "_model_module": "@jupyter-widgets/controls",
            "_model_module_version": "1.5.0",
            "_model_name": "HTMLModel",
            "_view_count": null,
            "_view_module": "@jupyter-widgets/controls",
            "_view_module_version": "1.5.0",
            "_view_name": "HTMLView",
            "description": "",
            "description_tooltip": null,
            "layout": "IPY_MODEL_b20bbc79e0f44f47b51d238ea87b9854",
            "placeholder": "​",
            "style": "IPY_MODEL_10534cf5fe3f47f29d60b3969c6b8fac",
            "value": " 112/112 [00:00&lt;00:00, 5.98kB/s]"
          }
        },
        "e2ba337b78e748419fe477002ca813cf": {
          "model_module": "@jupyter-widgets/base",
          "model_name": "LayoutModel",
          "model_module_version": "1.2.0",
          "state": {
            "_model_module": "@jupyter-widgets/base",
            "_model_module_version": "1.2.0",
            "_model_name": "LayoutModel",
            "_view_count": null,
            "_view_module": "@jupyter-widgets/base",
            "_view_module_version": "1.2.0",
            "_view_name": "LayoutView",
            "align_content": null,
            "align_items": null,
            "align_self": null,
            "border": null,
            "bottom": null,
            "display": null,
            "flex": null,
            "flex_flow": null,
            "grid_area": null,
            "grid_auto_columns": null,
            "grid_auto_flow": null,
            "grid_auto_rows": null,
            "grid_column": null,
            "grid_gap": null,
            "grid_row": null,
            "grid_template_areas": null,
            "grid_template_columns": null,
            "grid_template_rows": null,
            "height": null,
            "justify_content": null,
            "justify_items": null,
            "left": null,
            "margin": null,
            "max_height": null,
            "max_width": null,
            "min_height": null,
            "min_width": null,
            "object_fit": null,
            "object_position": null,
            "order": null,
            "overflow": null,
            "overflow_x": null,
            "overflow_y": null,
            "padding": null,
            "right": null,
            "top": null,
            "visibility": null,
            "width": null
          }
        },
        "7bd24b3b5b8a433bbae9abf2f9c108c6": {
          "model_module": "@jupyter-widgets/base",
          "model_name": "LayoutModel",
          "model_module_version": "1.2.0",
          "state": {
            "_model_module": "@jupyter-widgets/base",
            "_model_module_version": "1.2.0",
            "_model_name": "LayoutModel",
            "_view_count": null,
            "_view_module": "@jupyter-widgets/base",
            "_view_module_version": "1.2.0",
            "_view_name": "LayoutView",
            "align_content": null,
            "align_items": null,
            "align_self": null,
            "border": null,
            "bottom": null,
            "display": null,
            "flex": null,
            "flex_flow": null,
            "grid_area": null,
            "grid_auto_columns": null,
            "grid_auto_flow": null,
            "grid_auto_rows": null,
            "grid_column": null,
            "grid_gap": null,
            "grid_row": null,
            "grid_template_areas": null,
            "grid_template_columns": null,
            "grid_template_rows": null,
            "height": null,
            "justify_content": null,
            "justify_items": null,
            "left": null,
            "margin": null,
            "max_height": null,
            "max_width": null,
            "min_height": null,
            "min_width": null,
            "object_fit": null,
            "object_position": null,
            "order": null,
            "overflow": null,
            "overflow_x": null,
            "overflow_y": null,
            "padding": null,
            "right": null,
            "top": null,
            "visibility": null,
            "width": null
          }
        },
        "a310923d511a42f7aa34f8215b3ea3a0": {
          "model_module": "@jupyter-widgets/controls",
          "model_name": "DescriptionStyleModel",
          "model_module_version": "1.5.0",
          "state": {
            "_model_module": "@jupyter-widgets/controls",
            "_model_module_version": "1.5.0",
            "_model_name": "DescriptionStyleModel",
            "_view_count": null,
            "_view_module": "@jupyter-widgets/base",
            "_view_module_version": "1.2.0",
            "_view_name": "StyleView",
            "description_width": ""
          }
        },
        "6ea0df885dac40a98f720ecf95c5337d": {
          "model_module": "@jupyter-widgets/base",
          "model_name": "LayoutModel",
          "model_module_version": "1.2.0",
          "state": {
            "_model_module": "@jupyter-widgets/base",
            "_model_module_version": "1.2.0",
            "_model_name": "LayoutModel",
            "_view_count": null,
            "_view_module": "@jupyter-widgets/base",
            "_view_module_version": "1.2.0",
            "_view_name": "LayoutView",
            "align_content": null,
            "align_items": null,
            "align_self": null,
            "border": null,
            "bottom": null,
            "display": null,
            "flex": null,
            "flex_flow": null,
            "grid_area": null,
            "grid_auto_columns": null,
            "grid_auto_flow": null,
            "grid_auto_rows": null,
            "grid_column": null,
            "grid_gap": null,
            "grid_row": null,
            "grid_template_areas": null,
            "grid_template_columns": null,
            "grid_template_rows": null,
            "height": null,
            "justify_content": null,
            "justify_items": null,
            "left": null,
            "margin": null,
            "max_height": null,
            "max_width": null,
            "min_height": null,
            "min_width": null,
            "object_fit": null,
            "object_position": null,
            "order": null,
            "overflow": null,
            "overflow_x": null,
            "overflow_y": null,
            "padding": null,
            "right": null,
            "top": null,
            "visibility": null,
            "width": null
          }
        },
        "6454f37915cf4800a5c793af960cc246": {
          "model_module": "@jupyter-widgets/controls",
          "model_name": "ProgressStyleModel",
          "model_module_version": "1.5.0",
          "state": {
            "_model_module": "@jupyter-widgets/controls",
            "_model_module_version": "1.5.0",
            "_model_name": "ProgressStyleModel",
            "_view_count": null,
            "_view_module": "@jupyter-widgets/base",
            "_view_module_version": "1.2.0",
            "_view_name": "StyleView",
            "bar_color": null,
            "description_width": ""
          }
        },
        "b20bbc79e0f44f47b51d238ea87b9854": {
          "model_module": "@jupyter-widgets/base",
          "model_name": "LayoutModel",
          "model_module_version": "1.2.0",
          "state": {
            "_model_module": "@jupyter-widgets/base",
            "_model_module_version": "1.2.0",
            "_model_name": "LayoutModel",
            "_view_count": null,
            "_view_module": "@jupyter-widgets/base",
            "_view_module_version": "1.2.0",
            "_view_name": "LayoutView",
            "align_content": null,
            "align_items": null,
            "align_self": null,
            "border": null,
            "bottom": null,
            "display": null,
            "flex": null,
            "flex_flow": null,
            "grid_area": null,
            "grid_auto_columns": null,
            "grid_auto_flow": null,
            "grid_auto_rows": null,
            "grid_column": null,
            "grid_gap": null,
            "grid_row": null,
            "grid_template_areas": null,
            "grid_template_columns": null,
            "grid_template_rows": null,
            "height": null,
            "justify_content": null,
            "justify_items": null,
            "left": null,
            "margin": null,
            "max_height": null,
            "max_width": null,
            "min_height": null,
            "min_width": null,
            "object_fit": null,
            "object_position": null,
            "order": null,
            "overflow": null,
            "overflow_x": null,
            "overflow_y": null,
            "padding": null,
            "right": null,
            "top": null,
            "visibility": null,
            "width": null
          }
        },
        "10534cf5fe3f47f29d60b3969c6b8fac": {
          "model_module": "@jupyter-widgets/controls",
          "model_name": "DescriptionStyleModel",
          "model_module_version": "1.5.0",
          "state": {
            "_model_module": "@jupyter-widgets/controls",
            "_model_module_version": "1.5.0",
            "_model_name": "DescriptionStyleModel",
            "_view_count": null,
            "_view_module": "@jupyter-widgets/base",
            "_view_module_version": "1.2.0",
            "_view_name": "StyleView",
            "description_width": ""
          }
        }
      }
    }
  },
  "nbformat_minor": 0,
  "nbformat": 4,
  "cells": [
    {
      "cell_type": "code",
      "source": [
        "# IMPORTANT: RUN THIS CELL IN ORDER TO IMPORT YOUR KAGGLE DATA SOURCES\n",
        "# TO THE CORRECT LOCATION (/kaggle/input) IN YOUR NOTEBOOK,\n",
        "# THEN FEEL FREE TO DELETE THIS CELL.\n",
        "# NOTE: THIS NOTEBOOK ENVIRONMENT DIFFERS FROM KAGGLE'S PYTHON\n",
        "# ENVIRONMENT SO THERE MAY BE MISSING LIBRARIES USED BY YOUR\n",
        "# NOTEBOOK.\n",
        "\n",
        "import os\n",
        "import sys\n",
        "from tempfile import NamedTemporaryFile\n",
        "from urllib.request import urlopen\n",
        "from urllib.parse import unquote, urlparse\n",
        "from urllib.error import HTTPError\n",
        "from zipfile import ZipFile\n",
        "import tarfile\n",
        "import shutil\n",
        "\n",
        "CHUNK_SIZE = 40960\n",
        "DATA_SOURCE_MAPPING = 'arabic-youtube-comments-by-khalaya:https%3A%2F%2Fstorage.googleapis.com%2Fkaggle-data-sets%2F4605500%2F7852763%2Fbundle%2Farchive.zip%3FX-Goog-Algorithm%3DGOOG4-RSA-SHA256%26X-Goog-Credential%3Dgcp-kaggle-com%2540kaggle-161607.iam.gserviceaccount.com%252F20240524%252Fauto%252Fstorage%252Fgoog4_request%26X-Goog-Date%3D20240524T231813Z%26X-Goog-Expires%3D259200%26X-Goog-SignedHeaders%3Dhost%26X-Goog-Signature%3D85525cb905776cf0a1cdbe2eac8d0031abf975fd145c664935453bd98ea51773a96b18342eac576a8229b4149c579c6cc6087b66f558085bf0c1233beff83e0a2e99b975fde18884a7af19ca7759572e113a53d8850ede5a1fc8640a955d2c8d8afbbda81cd7071ecc381823ff349ef4a2d18341215a546b54b6dd642675f2561eccea88dea7e09b7ee829fd46f1e31f34bdec4f739b6ab2b78581eb931c01d5d69863a890ba44308f997bac8e64f14fe5e6969612c62e5c626c604c9ea9b8970ef48b6c4752d9ad6077fee33250b666fbb1a278c4b1eea71ebf7bb3bb94db25526c32012da98f51ee0b37f1e98f86ea3a84274c5b7583228db8235e57d17c38'\n",
        "\n",
        "KAGGLE_INPUT_PATH='/kaggle/input'\n",
        "KAGGLE_WORKING_PATH='/kaggle/working'\n",
        "KAGGLE_SYMLINK='kaggle'\n",
        "\n",
        "!umount /kaggle/input/ 2> /dev/null\n",
        "shutil.rmtree('/kaggle/input', ignore_errors=True)\n",
        "os.makedirs(KAGGLE_INPUT_PATH, 0o777, exist_ok=True)\n",
        "os.makedirs(KAGGLE_WORKING_PATH, 0o777, exist_ok=True)\n",
        "\n",
        "try:\n",
        "  os.symlink(KAGGLE_INPUT_PATH, os.path.join(\"..\", 'input'), target_is_directory=True)\n",
        "except FileExistsError:\n",
        "  pass\n",
        "try:\n",
        "  os.symlink(KAGGLE_WORKING_PATH, os.path.join(\"..\", 'working'), target_is_directory=True)\n",
        "except FileExistsError:\n",
        "  pass\n",
        "\n",
        "for data_source_mapping in DATA_SOURCE_MAPPING.split(','):\n",
        "    directory, download_url_encoded = data_source_mapping.split(':')\n",
        "    download_url = unquote(download_url_encoded)\n",
        "    filename = urlparse(download_url).path\n",
        "    destination_path = os.path.join(KAGGLE_INPUT_PATH, directory)\n",
        "    try:\n",
        "        with urlopen(download_url) as fileres, NamedTemporaryFile() as tfile:\n",
        "            total_length = fileres.headers['content-length']\n",
        "            print(f'Downloading {directory}, {total_length} bytes compressed')\n",
        "            dl = 0\n",
        "            data = fileres.read(CHUNK_SIZE)\n",
        "            while len(data) > 0:\n",
        "                dl += len(data)\n",
        "                tfile.write(data)\n",
        "                done = int(50 * dl / int(total_length))\n",
        "                sys.stdout.write(f\"\\r[{'=' * done}{' ' * (50-done)}] {dl} bytes downloaded\")\n",
        "                sys.stdout.flush()\n",
        "                data = fileres.read(CHUNK_SIZE)\n",
        "            if filename.endswith('.zip'):\n",
        "              with ZipFile(tfile) as zfile:\n",
        "                zfile.extractall(destination_path)\n",
        "            else:\n",
        "              with tarfile.open(tfile.name) as tarfile:\n",
        "                tarfile.extractall(destination_path)\n",
        "            print(f'\\nDownloaded and uncompressed: {directory}')\n",
        "    except HTTPError as e:\n",
        "        print(f'Failed to load (likely expired) {download_url} to path {destination_path}')\n",
        "        continue\n",
        "    except OSError as e:\n",
        "        print(f'Failed to load {download_url} to path {destination_path}')\n",
        "        continue\n",
        "\n",
        "print('Data source import complete.')\n"
      ],
      "metadata": {
        "colab": {
          "base_uri": "https://localhost:8080/"
        },
        "id": "ZwR6ORC26Dud",
        "outputId": "d629d9a7-7ba0-48a4-ac48-564374b25b94"
      },
      "execution_count": null,
      "outputs": [
        {
          "output_type": "stream",
          "name": "stdout",
          "text": [
            "Downloading arabic-youtube-comments-by-khalaya, 7895521 bytes compressed\n",
            "[==================================================] 7895521 bytes downloaded\n",
            "Downloaded and uncompressed: arabic-youtube-comments-by-khalaya\n",
            "Data source import complete.\n"
          ]
        }
      ]
    },
    {
      "cell_type": "markdown",
      "source": [
        "# Import libs"
      ],
      "metadata": {
        "id": "1hC5IKsBytQK"
      }
    },
    {
      "cell_type": "code",
      "source": [
        "%%capture\n",
        "!pip install tensorflow==2.15.0\n",
        "!pip install transformers==4.37.2"
      ],
      "metadata": {
        "id": "VLwkg79S6NAz"
      },
      "execution_count": null,
      "outputs": []
    },
    {
      "cell_type": "code",
      "source": [
        "import tensorflow as tf\n",
        "from transformers import AutoTokenizer,TFAutoModelForMaskedLM,TFAutoModelForSequenceClassification\n",
        "import pandas as pd\n",
        "import numpy as np\n",
        "from tensorflow.keras import backend as K\n",
        "from sklearn.model_selection import train_test_split,KFold\n",
        "from sklearn.metrics import confusion_matrix,f1_score,classification_report,auc,roc_curve,RocCurveDisplay,precision_score,recall_score\n",
        "import matplotlib.pyplot as plt\n",
        "import seaborn as sns\n",
        "import os\n",
        "from tqdm import tqdm\n",
        "import warnings\n",
        "# Suppress FutureWarning messages\n",
        "import logging, os\n",
        "from sklearn.model_selection import train_test_split\n",
        "from sklearn.metrics import classification_report\n",
        "logging.disable(logging.WARNING)\n",
        "os.environ[\"TF_CPP_MIN_LOG_LEVEL\"] = \"3\"\n",
        "import tensorflow as tf\n",
        "warnings.simplefilter(action='ignore', category=FutureWarning)\n",
        "pd.options.mode.chained_assignment = None"
      ],
      "metadata": {
        "id": "9rfoMlyH6P4U"
      },
      "execution_count": null,
      "outputs": []
    },
    {
      "cell_type": "code",
      "source": [
        "tf.config.optimizer.set_experimental_options({\"auto_mixed_precision\": True})\n",
        "print('Mixed precision enabled')"
      ],
      "metadata": {
        "colab": {
          "base_uri": "https://localhost:8080/"
        },
        "id": "KHJpO0a_6R_-",
        "outputId": "1caf7e24-5702-4b26-8721-be2f21bb17e3"
      },
      "execution_count": null,
      "outputs": [
        {
          "output_type": "stream",
          "name": "stdout",
          "text": [
            "Mixed precision enabled\n"
          ]
        }
      ]
    },
    {
      "cell_type": "code",
      "source": [
        "import tensorflow as tf\n",
        "print(\"Tensorflow version \" + tf.__version__)\n",
        "\n",
        "try:\n",
        "    tpu = tf.distribute.cluster_resolver.TPUClusterResolver()  # TPU detection\n",
        "#     print('Running on TPU ', tpu.cluster_spec().as_dict()['worker'])\n",
        "except ValueError:\n",
        "    raise BaseException('ERROR: Not connected to a TPU runtime; please see the previous cell in this notebook for instructions!')\n",
        "\n",
        "tf.config.experimental_connect_to_cluster(tpu)\n",
        "tf.tpu.experimental.initialize_tpu_system(tpu)\n",
        "tpu_strategy = tf.distribute.TPUStrategy(tpu)"
      ],
      "metadata": {
        "colab": {
          "base_uri": "https://localhost:8080/"
        },
        "id": "IH2w7Il9y3Di",
        "outputId": "a9e0b9d8-8704-4108-ad2c-4afc1092c98b"
      },
      "execution_count": null,
      "outputs": [
        {
          "output_type": "stream",
          "name": "stdout",
          "text": [
            "Tensorflow version 2.12.0\n"
          ]
        }
      ]
    },
    {
      "cell_type": "markdown",
      "source": [
        "#Hyperparameters"
      ],
      "metadata": {
        "id": "ccrDJKe_y69n"
      }
    },
    {
      "cell_type": "code",
      "source": [
        "EPOCHS = 7\n",
        "LEARNING_RATE_MAX = 2e-5\n",
        "LEARNING_RATE = 2e-5\n",
        "PCT = 0.02\n",
        "BATCH_SIZE = 512\n",
        "WD = 0.001\n",
        "MAX_LENGTH = 128\n",
        "DROP_OUT = 0.1"
      ],
      "metadata": {
        "id": "wK55b0zp8oVj"
      },
      "execution_count": null,
      "outputs": []
    },
    {
      "cell_type": "markdown",
      "source": [
        "#Functions"
      ],
      "metadata": {
        "id": "BGrxqHqIy99m"
      }
    },
    {
      "cell_type": "code",
      "source": [
        "def f_beta_score(y_true, y_pred):\n",
        "    beta=1\n",
        "    def recall_m(y_true, y_pred):\n",
        "        TP = K.sum(K.round(K.clip(y_true * y_pred, 0, 1)))\n",
        "        Positives = K.sum(K.round(K.clip(y_true, 0, 1)))\n",
        "\n",
        "        recall = TP / (Positives+K.epsilon())\n",
        "        return recall\n",
        "\n",
        "    def precision_m(y_true, y_pred):\n",
        "        TP = K.sum(K.round(K.clip(y_true * y_pred, 0, 1)))\n",
        "        Pred_Positives = K.sum(K.round(K.clip(y_pred, 0, 1)))\n",
        "\n",
        "        precision = TP / (Pred_Positives+K.epsilon())\n",
        "        return precision\n",
        "\n",
        "    precision, recall = precision_m(y_true, y_pred), recall_m(y_true, y_pred)\n",
        "\n",
        "    return (beta+1)*((precision*recall)/(precision+recall+K.epsilon()))"
      ],
      "metadata": {
        "id": "sGpCNKar8sSV"
      },
      "execution_count": null,
      "outputs": []
    },
    {
      "cell_type": "code",
      "source": [
        "def get_ds(data,Xcol,ycol,max_padding,tokenizer, batch_size=32):\n",
        "\n",
        "    X = data[Xcol]\n",
        "    y = data[ycol]\n",
        "\n",
        "    speech_act_encoder = {'Expression':0,'Assertion':1,'Question':2,'Recommendation':3,'Request':4,'Miscellaneous':5}\n",
        "    sentiment_encoder = {'Positive':0,'Neutral':1,'Negative':2,'Mixed':3}\n",
        "    y['speech_act'] = y['speech_act'].apply(lambda x:speech_act_encoder[x])\n",
        "    y['sentiment'] = y['sentiment'].apply(lambda x:sentiment_encoder[x])\n",
        "    y['sarcasm'] = y['sarcasm'].astype(int)\n",
        "#     y['dangerous'] = y['dangerous'].astype(int)\n",
        "\n",
        "    def transform(arr):\n",
        "        result = np.zeros([arr.shape[0],12])\n",
        "        arr = arr.values\n",
        "        result[:,0:4][np.arange(arr.shape[0]), arr[:,0]] = 1\n",
        "        result[:,4:10][np.arange(arr.shape[0]), arr[:,1]] = 1\n",
        "        result[:,10:12][np.arange(arr.shape[0]), arr[:,2]] = 1\n",
        "#         result[:,12:][np.arange(arr.shape[0]), arr[:,3]] = 1\n",
        "        return result\n",
        "\n",
        "    y = transform(y)\n",
        "    assert y.shape[0]*3 == np.sum(y)\n",
        "    X, y = X.tolist(), y.tolist()\n",
        "\n",
        "    X = tokenizer(X, truncation=True, padding='max_length',max_length=max_padding)\n",
        "\n",
        "    data = tf.data.Dataset.from_tensor_slices((\n",
        "        dict(X),\n",
        "        y\n",
        "    ))\n",
        "\n",
        "    data = data.batch(batch_size)\n",
        "    return data"
      ],
      "metadata": {
        "id": "g6BORu-LzAZK"
      },
      "execution_count": null,
      "outputs": []
    },
    {
      "cell_type": "code",
      "source": [
        "class Categorical_loss(tf.keras.losses.Loss):\n",
        "    def __init__(self,speech_act_alpha,\n",
        "                 sentiment_alpha,\n",
        "                 sarcasm_alpha,\n",
        "                 dangerous_alpha,reduction=tf.keras.losses.Reduction.NONE,\n",
        "                 name='Categorical_loss',):\n",
        "        super().__init__(reduction=reduction, name=name)\n",
        "        # Initialize the loss functions with the specified reduction\n",
        "        self.cce_sen = tf.keras.losses.CategoricalFocalCrossentropy(reduction=reduction,alpha=sentiment_alpha)\n",
        "        self.cce_sa = tf.keras.losses.CategoricalFocalCrossentropy(reduction=reduction,alpha=speech_act_alpha)\n",
        "        self.cce_sar = tf.keras.losses.CategoricalFocalCrossentropy(reduction=reduction,alpha=sarcasm_alpha)\n",
        "#         self.cce_dan = tf.keras.losses.CategoricalFocalCrossentropy(reduction=reduction,alpha=dangerous_alpha)\n",
        "\n",
        "    def call(self, y_true, y_pred):\n",
        "        # Compute the losses for different segments\n",
        "        sa_loss = self.cce_sa(y_true[:, 4:10], y_pred[:, 4:10])\n",
        "        sa_loss = tf.reduce_mean(sa_loss)\n",
        "        sen_loss = self.cce_sen(y_true[:, 0:4], y_pred[:, 0:4])\n",
        "        sen_loss = tf.reduce_mean(sen_loss)\n",
        "        sar_loss = self.cce_sar(y_true[:, 10:12], y_pred[:, 10:12])\n",
        "        sar_loss = tf.reduce_mean(sar_loss)\n",
        "#         dan_loss = self.cce_dan(y_true[:, 12:], y_pred[:, 12:])\n",
        "#         dan_loss = tf.reduce_mean(sar_loss)\n",
        "\n",
        "        # Combine the losses\n",
        "        total_loss = sa_loss + sen_loss + sar_loss\n",
        "        return total_loss\n",
        "class Categorical_loss_sentiment(tf.keras.losses.Loss):\n",
        "    def __init__(self, reduction=tf.keras.losses.Reduction.NONE, name='Categorical_loss_sentiment'):\n",
        "        super().__init__(reduction=reduction, name=name)\n",
        "        # Initialize the loss functions with the specified reduction\n",
        "        self.cce = tf.keras.losses.CategoricalCrossentropy(reduction=reduction)\n",
        "\n",
        "    def call(self, y_true, y_pred):\n",
        "        # Compute the losses for different segments\n",
        "        sen_loss = self.cce(y_true[:, 0:4], y_pred[:, 0:4])\n",
        "        sen_loss = tf.reduce_mean(sen_loss)\n",
        "        return sen_loss\n",
        "\n",
        "class Categorical_loss_sarcasm(tf.keras.losses.Loss):\n",
        "    def __init__(self, reduction=tf.keras.losses.Reduction.NONE, name='Categorical_loss_sarcasm'):\n",
        "        super().__init__(reduction=reduction, name=name)\n",
        "        # Initialize the loss functions with the specified reduction\n",
        "        self.cce = tf.keras.losses.CategoricalCrossentropy(reduction=reduction)\n",
        "\n",
        "    def call(self, y_true, y_pred):\n",
        "        # Compute the losses for different segments\n",
        "        sar_loss = self.cce(y_true[:, 10:12], y_pred[:, 10:12])\n",
        "        sar_loss = tf.reduce_mean(sar_loss)\n",
        "        return sar_loss\n",
        "\n",
        "class Categorical_loss_speech_act(tf.keras.losses.Loss):\n",
        "    def __init__(self, reduction=tf.keras.losses.Reduction.NONE, name='Categorical_loss_speech_act'):\n",
        "        super().__init__(reduction=reduction, name=name)\n",
        "        # Initialize the loss functions with the specified reduction\n",
        "        self.cce = tf.keras.losses.CategoricalCrossentropy(reduction=reduction)\n",
        "\n",
        "    def call(self, y_true, y_pred):\n",
        "        # Compute the losses for different segments\n",
        "        sa_loss = self.cce(y_true[:, 4:10], y_pred[:, 4:10])\n",
        "        sa_loss = tf.reduce_mean(sa_loss)\n",
        "        return sa_loss\n",
        "\n",
        "class Categorical_loss_dangerous(tf.keras.losses.Loss):\n",
        "    def __init__(self, reduction=tf.keras.losses.Reduction.NONE, name='Categorical_loss_dangerous'):\n",
        "        super().__init__(reduction=reduction, name=name)\n",
        "        # Initialize the loss functions with the specified reduction\n",
        "        self.cce = tf.keras.losses.CategoricalCrossentropy(reduction=reduction)\n",
        "\n",
        "    def call(self, y_true, y_pred):\n",
        "        # Compute the losses for different segments\n",
        "        sa_loss = self.cce(y_true[:, 12:], y_pred[:, 12:])\n",
        "        sa_loss = tf.reduce_mean(sa_loss)\n",
        "        return sa_loss\n"
      ],
      "metadata": {
        "id": "uldkrsI39tQe"
      },
      "execution_count": null,
      "outputs": []
    },
    {
      "cell_type": "code",
      "source": [
        "import tensorflow as tf\n",
        "import numpy as np\n",
        "import matplotlib.pyplot as plt\n",
        "import logging\n",
        "\n",
        "logging.getLogger('tensorflow').setLevel(logging.ERROR)\n",
        "\n",
        "from tensorflow.keras.callbacks import Callback\n",
        "\n",
        "class CosineAnnealer:\n",
        "\n",
        "    def __init__(self, start, end, steps):\n",
        "        self.start = start\n",
        "        self.end = end\n",
        "        self.steps = steps\n",
        "        self.n = 0\n",
        "\n",
        "    def step(self):\n",
        "        self.n += 1\n",
        "        cos = np.cos(np.pi * (self.n / self.steps)) + 1\n",
        "        return self.end + (self.start - self.end) / 2. * cos\n",
        "\n",
        "\n",
        "class OneCycleScheduler(Callback):\n",
        "    \"\"\"\n",
        "    \"\"\"\n",
        "\n",
        "    def __init__(self, lr_max, steps, mom_min=0.85, mom_max=0.95, phase_1_pct=0.25, div_factor=2.):\n",
        "        super(OneCycleScheduler, self).__init__()\n",
        "        lr_min = lr_max / div_factor\n",
        "        final_lr = lr_max / (div_factor * 1e2)\n",
        "        phase_1_steps = steps * phase_1_pct\n",
        "        phase_2_steps = steps - phase_1_steps\n",
        "\n",
        "        self.phase_1_steps = phase_1_steps\n",
        "        self.phase_2_steps = phase_2_steps\n",
        "        self.phase = 0\n",
        "        self.step = 0\n",
        "\n",
        "        self.phases = [[CosineAnnealer(lr_min, lr_max, phase_1_steps), CosineAnnealer(mom_max, mom_min, phase_1_steps)],\n",
        "                 [CosineAnnealer(lr_max, final_lr, phase_2_steps), CosineAnnealer(mom_min, mom_max, phase_2_steps)]]\n",
        "\n",
        "        self.lrs = []\n",
        "        self.moms = []\n",
        "\n",
        "    def on_train_begin(self, logs=None):\n",
        "        self.phase = 0\n",
        "        self.step = 0\n",
        "\n",
        "        self.set_lr(self.lr_schedule().start)\n",
        "        self.set_momentum(self.mom_schedule().start)\n",
        "\n",
        "    def on_train_batch_begin(self, batch, logs=None):\n",
        "        self.lrs.append(self.get_lr())\n",
        "        self.moms.append(self.get_momentum())\n",
        "\n",
        "    def on_train_batch_end(self, batch, logs=None):\n",
        "        self.step += 1\n",
        "        if self.step >= self.phase_1_steps:\n",
        "            self.phase = 1\n",
        "\n",
        "        self.set_lr(self.lr_schedule().step())\n",
        "        self.set_momentum(self.mom_schedule().step())\n",
        "\n",
        "    def get_lr(self):\n",
        "        try:\n",
        "            return tf.keras.backend.get_value(self.model.optimizer.lr)\n",
        "        except AttributeError:\n",
        "            return None\n",
        "\n",
        "    def get_momentum(self):\n",
        "        try:\n",
        "            return tf.keras.backend.get_value(self.model.optimizer.momentum)\n",
        "        except AttributeError:\n",
        "            return None\n",
        "\n",
        "    def set_lr(self, lr):\n",
        "        try:\n",
        "            tf.keras.backend.set_value(self.model.optimizer.lr, lr)\n",
        "        except AttributeError:\n",
        "            pass # ignore\n",
        "\n",
        "    def set_momentum(self, mom):\n",
        "        try:\n",
        "            tf.keras.backend.set_value(self.model.optimizer.momentum, mom)\n",
        "        except AttributeError:\n",
        "            pass # ignore\n",
        "\n",
        "    def lr_schedule(self):\n",
        "        return self.phases[self.phase][0]\n",
        "\n",
        "    def mom_schedule(self):\n",
        "        return self.phases[self.phase][1]\n",
        "\n",
        "    def plot(self):\n",
        "        ax = plt.subplot(1, 2, 1)\n",
        "        ax.plot(self.lrs)\n",
        "        ax.set_title('Learning Rate')\n",
        "        ax = plt.subplot(1, 2, 2)\n",
        "        ax.plot(self.moms)\n",
        "        ax.set_title('Momentum')"
      ],
      "metadata": {
        "id": "yxqGyeQF9vkx"
      },
      "execution_count": null,
      "outputs": []
    },
    {
      "cell_type": "code",
      "source": [
        "def get_model():\n",
        "    model = TFAutoModelForMaskedLM.from_pretrained(\"UBC-NLP/MARBERTv2\",name='BERT')\n",
        "    input_ids = tf.keras.Input(shape=(None, ),dtype='int32',name='input_ids')\n",
        "    token_type_ids = tf.keras.Input(shape=(None, ),dtype='int32',name='token_type_ids')\n",
        "    attention_mask = tf.keras.Input(shape=(None, ), dtype='int32',name='attention_mask')\n",
        "\n",
        "    transformer = model(input_ids,attention_mask, token_type_ids,output_hidden_states=True)\n",
        "    cls = transformer.hidden_states[-1][:,0,:]\n",
        "    drop_out = tf.keras.layers.Dropout(DROP_OUT)(cls)\n",
        "\n",
        "    sentiment = tf.keras.layers.Dense(768,activation='relu',name='sentiment')(drop_out)\n",
        "    sentiment = tf.keras.layers.Dense(768,activation='relu',name='sentiment2')(sentiment)\n",
        "    sentiment = tf.keras.layers.Dense(768,activation='relu',name='sentiment3')(sentiment)\n",
        "    sentiment = tf.keras.layers.Dense(4,activation='softmax',name='sentiment_out')(sentiment)\n",
        "\n",
        "    speech_act = tf.keras.layers.Dense(768,activation='relu',name='speech_act')(drop_out)\n",
        "    speech_act = tf.keras.layers.Dense(768,activation='relu',name='speech_act2')(speech_act)\n",
        "    speech_act = tf.keras.layers.Dense(768,activation='relu',name='speech_act3')(speech_act)\n",
        "    speech_act = tf.keras.layers.Dense(6,activation='softmax',name='speech_act_out')(speech_act)\n",
        "\n",
        "    sarcasm = tf.keras.layers.Dense(768,activation='relu',name='sarcasm')(drop_out)\n",
        "    sarcasm = tf.keras.layers.Dense(768,activation='relu',name='sarcasm2')(sarcasm)\n",
        "    sarcasm = tf.keras.layers.Dense(768,activation='relu',name='sarcasm3')(sarcasm)\n",
        "    sarcasm = tf.keras.layers.Dense(2,activation='softmax',name='sarcasm_out')(sarcasm)\n",
        "\n",
        "#     dangerous = tf.keras.layers.Dense(768,activation='relu',name='dangerous')(drop_out)\n",
        "#     dangerous = tf.keras.layers.Dense(768,activation='relu',name='dangerous2')(dangerous)\n",
        "#     dangerous = tf.keras.layers.Dense(768,activation='relu',name='dangerous3')(dangerous)\n",
        "#     dangerous = tf.keras.layers.Dense(2,activation='softmax',name='dangerous_out')(dangerous)\n",
        "\n",
        "    output = tf.keras.layers.Concatenate(axis = -1)([sentiment,speech_act,sarcasm])\n",
        "\n",
        "    Fmodel = tf.keras.Model(inputs=[input_ids,token_type_ids, attention_mask], outputs=output)\n",
        "    return Fmodel"
      ],
      "metadata": {
        "id": "-gVZa__A9x7b"
      },
      "execution_count": null,
      "outputs": []
    },
    {
      "cell_type": "code",
      "source": [
        "data = pd.read_csv('/kaggle/input/arabic-youtube-comments-by-khalaya/data.csv')"
      ],
      "metadata": {
        "id": "urA8mSkVERKS"
      },
      "execution_count": null,
      "outputs": []
    },
    {
      "cell_type": "code",
      "source": [
        "data['speech_act'] = data.speech_act.str.replace(\"Recomendation\",\"Recommendation\")\n",
        "data['speech_act'] = data.speech_act.str.replace(\"Recommmendation\",\"Recommendation\")\n",
        "data['speech_act'] = data.speech_act.str.replace(\"Recommenation\",\"Recommendation\")\n",
        "data['speech_act'] = data.speech_act.str.replace(\"Experssion\",\"Expression\")"
      ],
      "metadata": {
        "id": "WKMAm9AhEW_Z"
      },
      "execution_count": null,
      "outputs": []
    },
    {
      "cell_type": "code",
      "source": [
        "speech_act_counts = data.value_counts('speech_act')"
      ],
      "metadata": {
        "id": "seN2bvtqEYvC"
      },
      "execution_count": null,
      "outputs": []
    },
    {
      "cell_type": "code",
      "source": [
        "data = data[~data.isin(list(speech_act_counts[speech_act_counts < 100].index))]"
      ],
      "metadata": {
        "id": "L4CE63UVEebn"
      },
      "execution_count": null,
      "outputs": []
    },
    {
      "cell_type": "code",
      "source": [
        "speech_act_alpha = (1 - (data.value_counts('speech_act') / data.value_counts('speech_act').sum())).tolist()"
      ],
      "metadata": {
        "id": "NqnAHJsaEhf6"
      },
      "execution_count": null,
      "outputs": []
    },
    {
      "cell_type": "code",
      "source": [
        "sentiment_alpha = (1 - (data.value_counts('sentiment') / data.value_counts('sentiment').sum())).tolist()"
      ],
      "metadata": {
        "id": "pSK6wrCmEjvQ"
      },
      "execution_count": null,
      "outputs": []
    },
    {
      "cell_type": "code",
      "source": [
        "sarcasm_alpha = (1 - (data.value_counts('sarcasm') / data.value_counts('sarcasm').sum())).tolist()"
      ],
      "metadata": {
        "id": "B9p1DSNaEk08"
      },
      "execution_count": null,
      "outputs": []
    },
    {
      "cell_type": "code",
      "source": [
        "dangerous_alpha = (1 - (data.value_counts('dangerous') / data.value_counts('dangerous').sum())).tolist()"
      ],
      "metadata": {
        "id": "YnJSatY1Enzs"
      },
      "execution_count": null,
      "outputs": []
    },
    {
      "cell_type": "code",
      "source": [
        "data = data.dropna(subset='speech_act')"
      ],
      "metadata": {
        "id": "b2IVNAT9EpVn"
      },
      "execution_count": null,
      "outputs": []
    },
    {
      "cell_type": "code",
      "source": [
        "data = data.sample(n = data.shape[0])"
      ],
      "metadata": {
        "id": "rQ8yOI49Eq2q"
      },
      "execution_count": null,
      "outputs": []
    },
    {
      "cell_type": "code",
      "source": [
        "tokenizer = AutoTokenizer.from_pretrained(\"UBC-NLP/MARBERTv2\")"
      ],
      "metadata": {
        "id": "QvEcSNeOEscE"
      },
      "execution_count": null,
      "outputs": []
    },
    {
      "cell_type": "code",
      "source": [
        "X_train, X_test, y_train, y_test = train_test_split(data['comment'],\n",
        "                                                    data[['sentiment','speech_act','sarcasm']],\n",
        "                                                    test_size=0.1,\n",
        "                                                    random_state=42,\n",
        "                                                    shuffle=True)\n",
        "X_train, X_val, y_train, y_val = train_test_split(X_train,\n",
        "                                                    y_train,\n",
        "                                                    test_size=0.1,\n",
        "                                                    random_state=42,\n",
        "                                                    shuffle=True)"
      ],
      "metadata": {
        "id": "8I2TutAWEuAh"
      },
      "execution_count": null,
      "outputs": []
    },
    {
      "cell_type": "code",
      "source": [
        "train_tensor = get_ds(pd.concat([X_train,y_train],axis=1),\n",
        "                      Xcol='comment',\n",
        "                      ycol=['sentiment','speech_act','sarcasm'],\n",
        "                      max_padding=MAX_LENGTH,\n",
        "                      tokenizer=tokenizer,\n",
        "                      batch_size=BATCH_SIZE)\n",
        "val_tensor = get_ds(pd.concat([X_val,y_val],axis=1),\n",
        "                      Xcol='comment',\n",
        "                      ycol=['sentiment','speech_act','sarcasm'],\n",
        "                      max_padding=MAX_LENGTH,\n",
        "                      tokenizer=tokenizer,\n",
        "                      batch_size=BATCH_SIZE)"
      ],
      "metadata": {
        "id": "7DFvBIUoEvQG"
      },
      "execution_count": null,
      "outputs": []
    },
    {
      "cell_type": "code",
      "source": [
        "with tpu_strategy.scope():\n",
        "    model = get_model()\n",
        "\n",
        "lr_schedule = OneCycleScheduler(LEARNING_RATE_MAX, len(train_tensor) * EPOCHS,phase_1_pct=PCT)\n",
        "\n",
        "optimizer = tf.keras.optimizers.AdamW(learning_rate=LEARNING_RATE,epsilon=1e-8,beta_1=0.9,beta_2=0.999,weight_decay=WD)\n",
        "model.compile(optimizer = optimizer,\n",
        "            loss = Categorical_loss(speech_act_alpha=speech_act_alpha,\n",
        "             sentiment_alpha=sentiment_alpha,\n",
        "             sarcasm_alpha=sarcasm_alpha,\n",
        "             dangerous_alpha=dangerous_alpha),\n",
        "            metrics = [f_beta_score,Categorical_loss_speech_act(),Categorical_loss_sentiment(),Categorical_loss_sarcasm()]\n",
        "            )\n",
        "print(model.summary())\n",
        "model.fit(train_tensor,validation_data = val_tensor,epochs=EPOCHS,callbacks=[lr_schedule])"
      ],
      "metadata": {
        "colab": {
          "base_uri": "https://localhost:8080/",
          "height": 1000
        },
        "id": "96MOOQm5ExCq",
        "outputId": "2080d04b-2627-42f1-8ba3-194d7b244aea"
      },
      "execution_count": null,
      "outputs": [
        {
          "output_type": "stream",
          "name": "stdout",
          "text": [
            "WARNING: AutoGraph could not transform <function TFBertForMaskedLM.call at 0x7a64dd48d120> and will run it as-is.\n",
            "Please report this to the TensorFlow team. When filing the bug, set the verbosity to 10 (on Linux, `export AUTOGRAPH_VERBOSITY=10`) and attach the full output.\n",
            "Cause: Unknown node type <gast.gast.ClassDef object at 0x7a64da36d630>\n",
            "To silence this warning, decorate the function with @tf.autograph.experimental.do_not_convert\n",
            "WARNING: AutoGraph could not transform <function TFBertMainLayer.call at 0x7a64dd48c280> and will run it as-is.\n",
            "Please report this to the TensorFlow team. When filing the bug, set the verbosity to 10 (on Linux, `export AUTOGRAPH_VERBOSITY=10`) and attach the full output.\n",
            "Cause: Unknown node type <gast.gast.ClassDef object at 0x7a64db0b3370>\n",
            "To silence this warning, decorate the function with @tf.autograph.experimental.do_not_convert\n"
          ]
        },
        {
          "output_type": "error",
          "ename": "TypeError",
          "evalue": "Exception encountered when calling layer \"BERT\" (type TFBertForMaskedLM).\n\nin user code:\n\n    File \"/usr/local/lib/python3.10/dist-packages/transformers/modeling_tf_utils.py\", line 802, in run_call_with_unpacked_inputs  *\n        return func(self, **unpacked_inputs)\n    File \"/usr/local/lib/python3.10/dist-packages/transformers/models/bert/modeling_tf_bert.py\", line 888, in call\n        use_cache = False\n\n    TypeError: Exception encountered when calling layer 'bert' (type TFBertMainLayer).\n    \n    in user code:\n    \n        File \"/usr/local/lib/python3.10/dist-packages/transformers/modeling_tf_utils.py\", line 802, in run_call_with_unpacked_inputs  *\n            return func(self, **unpacked_inputs)\n        File \"/usr/local/lib/python3.10/dist-packages/transformers/models/bert/modeling_tf_bert.py\", line 888, in call  **\n            use_cache = False\n        File \"/usr/local/lib/python3.10/dist-packages/keras/utils/traceback_utils.py\", line 70, in error_handler\n            \n    \n        TypeError: Exception encountered when calling layer 'embeddings' (type TFBertEmbeddings).\n        \n        in user code:\n        \n        \n            TypeError: outer_factory.<locals>.inner_factory.<locals>.tf__build() got an unexpected keyword argument 'position_ids'\n        \n        \n        Call arguments received by layer 'embeddings' (type TFBertEmbeddings):\n          • input_ids=tf.Tensor(shape=(None, None), dtype=int32)\n          • position_ids=None\n          • token_type_ids=tf.Tensor(shape=(None, None), dtype=int32)\n          • inputs_embeds=None\n          • past_key_values_length=0\n          • training=False\n    \n    \n    Call arguments received by layer 'bert' (type TFBertMainLayer):\n      • input_ids=tf.Tensor(shape=(None, None), dtype=int32)\n      • attention_mask=tf.Tensor(shape=(None, None), dtype=int32)\n      • token_type_ids=tf.Tensor(shape=(None, None), dtype=int32)\n      • position_ids=None\n      • head_mask=None\n      • inputs_embeds=None\n      • encoder_hidden_states=None\n      • encoder_attention_mask=None\n      • past_key_values=None\n      • use_cache=None\n      • output_attentions=False\n      • output_hidden_states=True\n      • return_dict=True\n      • training=False\n\n\nCall arguments received by layer \"BERT\" (type TFBertForMaskedLM):\n  • input_ids=tf.Tensor(shape=(None, None), dtype=int32)\n  • attention_mask=tf.Tensor(shape=(None, None), dtype=int32)\n  • token_type_ids=tf.Tensor(shape=(None, None), dtype=int32)\n  • position_ids=None\n  • head_mask=None\n  • inputs_embeds=None\n  • output_attentions=None\n  • output_hidden_states=True\n  • return_dict=None\n  • labels=None\n  • training=False",
          "traceback": [
            "\u001b[0;31m---------------------------------------------------------------------------\u001b[0m",
            "\u001b[0;31mTypeError\u001b[0m                                 Traceback (most recent call last)",
            "\u001b[0;32m<ipython-input-79-666e43bc0740>\u001b[0m in \u001b[0;36m<cell line: 1>\u001b[0;34m()\u001b[0m\n\u001b[1;32m      1\u001b[0m \u001b[0;32mwith\u001b[0m \u001b[0mtpu_strategy\u001b[0m\u001b[0;34m.\u001b[0m\u001b[0mscope\u001b[0m\u001b[0;34m(\u001b[0m\u001b[0;34m)\u001b[0m\u001b[0;34m:\u001b[0m\u001b[0;34m\u001b[0m\u001b[0;34m\u001b[0m\u001b[0m\n\u001b[0;32m----> 2\u001b[0;31m     \u001b[0mmodel\u001b[0m \u001b[0;34m=\u001b[0m \u001b[0mget_model\u001b[0m\u001b[0;34m(\u001b[0m\u001b[0;34m)\u001b[0m\u001b[0;34m\u001b[0m\u001b[0;34m\u001b[0m\u001b[0m\n\u001b[0m\u001b[1;32m      3\u001b[0m \u001b[0;34m\u001b[0m\u001b[0m\n\u001b[1;32m      4\u001b[0m \u001b[0mlr_schedule\u001b[0m \u001b[0;34m=\u001b[0m \u001b[0mOneCycleScheduler\u001b[0m\u001b[0;34m(\u001b[0m\u001b[0mLEARNING_RATE_MAX\u001b[0m\u001b[0;34m,\u001b[0m \u001b[0mlen\u001b[0m\u001b[0;34m(\u001b[0m\u001b[0mtrain_tensor\u001b[0m\u001b[0;34m)\u001b[0m \u001b[0;34m*\u001b[0m \u001b[0mEPOCHS\u001b[0m\u001b[0;34m,\u001b[0m\u001b[0mphase_1_pct\u001b[0m\u001b[0;34m=\u001b[0m\u001b[0mPCT\u001b[0m\u001b[0;34m)\u001b[0m\u001b[0;34m\u001b[0m\u001b[0;34m\u001b[0m\u001b[0m\n\u001b[1;32m      5\u001b[0m \u001b[0;34m\u001b[0m\u001b[0m\n",
            "\u001b[0;32m<ipython-input-62-1895ca848d63>\u001b[0m in \u001b[0;36mget_model\u001b[0;34m()\u001b[0m\n\u001b[1;32m      5\u001b[0m     \u001b[0mattention_mask\u001b[0m \u001b[0;34m=\u001b[0m \u001b[0mtf\u001b[0m\u001b[0;34m.\u001b[0m\u001b[0mkeras\u001b[0m\u001b[0;34m.\u001b[0m\u001b[0mInput\u001b[0m\u001b[0;34m(\u001b[0m\u001b[0mshape\u001b[0m\u001b[0;34m=\u001b[0m\u001b[0;34m(\u001b[0m\u001b[0;32mNone\u001b[0m\u001b[0;34m,\u001b[0m \u001b[0;34m)\u001b[0m\u001b[0;34m,\u001b[0m \u001b[0mdtype\u001b[0m\u001b[0;34m=\u001b[0m\u001b[0;34m'int32'\u001b[0m\u001b[0;34m,\u001b[0m\u001b[0mname\u001b[0m\u001b[0;34m=\u001b[0m\u001b[0;34m'attention_mask'\u001b[0m\u001b[0;34m)\u001b[0m\u001b[0;34m\u001b[0m\u001b[0;34m\u001b[0m\u001b[0m\n\u001b[1;32m      6\u001b[0m \u001b[0;34m\u001b[0m\u001b[0m\n\u001b[0;32m----> 7\u001b[0;31m     \u001b[0mtransformer\u001b[0m \u001b[0;34m=\u001b[0m \u001b[0mmodel\u001b[0m\u001b[0;34m(\u001b[0m\u001b[0minput_ids\u001b[0m\u001b[0;34m,\u001b[0m\u001b[0mattention_mask\u001b[0m\u001b[0;34m,\u001b[0m \u001b[0mtoken_type_ids\u001b[0m\u001b[0;34m,\u001b[0m\u001b[0moutput_hidden_states\u001b[0m\u001b[0;34m=\u001b[0m\u001b[0;32mTrue\u001b[0m\u001b[0;34m)\u001b[0m\u001b[0;34m\u001b[0m\u001b[0;34m\u001b[0m\u001b[0m\n\u001b[0m\u001b[1;32m      8\u001b[0m     \u001b[0mcls\u001b[0m \u001b[0;34m=\u001b[0m \u001b[0mtransformer\u001b[0m\u001b[0;34m.\u001b[0m\u001b[0mhidden_states\u001b[0m\u001b[0;34m[\u001b[0m\u001b[0;34m-\u001b[0m\u001b[0;36m1\u001b[0m\u001b[0;34m]\u001b[0m\u001b[0;34m[\u001b[0m\u001b[0;34m:\u001b[0m\u001b[0;34m,\u001b[0m\u001b[0;36m0\u001b[0m\u001b[0;34m,\u001b[0m\u001b[0;34m:\u001b[0m\u001b[0;34m]\u001b[0m\u001b[0;34m\u001b[0m\u001b[0;34m\u001b[0m\u001b[0m\n\u001b[1;32m      9\u001b[0m     \u001b[0mdrop_out\u001b[0m \u001b[0;34m=\u001b[0m \u001b[0mtf\u001b[0m\u001b[0;34m.\u001b[0m\u001b[0mkeras\u001b[0m\u001b[0;34m.\u001b[0m\u001b[0mlayers\u001b[0m\u001b[0;34m.\u001b[0m\u001b[0mDropout\u001b[0m\u001b[0;34m(\u001b[0m\u001b[0mDROP_OUT\u001b[0m\u001b[0;34m)\u001b[0m\u001b[0;34m(\u001b[0m\u001b[0mcls\u001b[0m\u001b[0;34m)\u001b[0m\u001b[0;34m\u001b[0m\u001b[0;34m\u001b[0m\u001b[0m\n",
            "\u001b[0;32m/usr/local/lib/python3.10/dist-packages/keras/utils/traceback_utils.py\u001b[0m in \u001b[0;36merror_handler\u001b[0;34m(*args, **kwargs)\u001b[0m\n",
            "\u001b[0;32m/usr/local/lib/python3.10/dist-packages/transformers/modeling_tf_utils.py\u001b[0m in \u001b[0;36mtf__run_call_with_unpacked_inputs\u001b[0;34m(self, *args, **kwargs)\u001b[0m\n\u001b[1;32m     35\u001b[0m                 \u001b[0;32mtry\u001b[0m\u001b[0;34m:\u001b[0m\u001b[0;34m\u001b[0m\u001b[0;34m\u001b[0m\u001b[0m\n\u001b[1;32m     36\u001b[0m                     \u001b[0mdo_return\u001b[0m \u001b[0;34m=\u001b[0m \u001b[0;32mTrue\u001b[0m\u001b[0;34m\u001b[0m\u001b[0;34m\u001b[0m\u001b[0m\n\u001b[0;32m---> 37\u001b[0;31m                     \u001b[0mretval_\u001b[0m \u001b[0;34m=\u001b[0m \u001b[0mag__\u001b[0m\u001b[0;34m.\u001b[0m\u001b[0mconverted_call\u001b[0m\u001b[0;34m(\u001b[0m\u001b[0mag__\u001b[0m\u001b[0;34m.\u001b[0m\u001b[0mld\u001b[0m\u001b[0;34m(\u001b[0m\u001b[0mfunc\u001b[0m\u001b[0;34m)\u001b[0m\u001b[0;34m,\u001b[0m \u001b[0;34m(\u001b[0m\u001b[0mag__\u001b[0m\u001b[0;34m.\u001b[0m\u001b[0mld\u001b[0m\u001b[0;34m(\u001b[0m\u001b[0mself\u001b[0m\u001b[0;34m)\u001b[0m\u001b[0;34m,\u001b[0m\u001b[0;34m)\u001b[0m\u001b[0;34m,\u001b[0m \u001b[0mdict\u001b[0m\u001b[0;34m(\u001b[0m\u001b[0;34m**\u001b[0m\u001b[0mag__\u001b[0m\u001b[0;34m.\u001b[0m\u001b[0mld\u001b[0m\u001b[0;34m(\u001b[0m\u001b[0munpacked_inputs\u001b[0m\u001b[0;34m)\u001b[0m\u001b[0;34m)\u001b[0m\u001b[0;34m,\u001b[0m \u001b[0mfscope\u001b[0m\u001b[0;34m)\u001b[0m\u001b[0;34m\u001b[0m\u001b[0;34m\u001b[0m\u001b[0m\n\u001b[0m\u001b[1;32m     38\u001b[0m                 \u001b[0;32mexcept\u001b[0m\u001b[0;34m:\u001b[0m\u001b[0;34m\u001b[0m\u001b[0;34m\u001b[0m\u001b[0m\n\u001b[1;32m     39\u001b[0m                     \u001b[0mdo_return\u001b[0m \u001b[0;34m=\u001b[0m \u001b[0;32mFalse\u001b[0m\u001b[0;34m\u001b[0m\u001b[0;34m\u001b[0m\u001b[0m\n",
            "\u001b[0;32m/usr/local/lib/python3.10/dist-packages/transformers/models/bert/modeling_tf_bert.py\u001b[0m in \u001b[0;36mcall\u001b[0;34m(self, input_ids, attention_mask, token_type_ids, position_ids, head_mask, inputs_embeds, output_attentions, output_hidden_states, return_dict, labels, training)\u001b[0m\n\u001b[1;32m   1419\u001b[0m     @add_code_sample_docstrings(\n\u001b[1;32m   1420\u001b[0m         \u001b[0mcheckpoint\u001b[0m\u001b[0;34m=\u001b[0m\u001b[0m_CHECKPOINT_FOR_DOC\u001b[0m\u001b[0;34m,\u001b[0m\u001b[0;34m\u001b[0m\u001b[0;34m\u001b[0m\u001b[0m\n\u001b[0;32m-> 1421\u001b[0;31m         \u001b[0moutput_type\u001b[0m\u001b[0;34m=\u001b[0m\u001b[0mTFMaskedLMOutput\u001b[0m\u001b[0;34m,\u001b[0m\u001b[0;34m\u001b[0m\u001b[0;34m\u001b[0m\u001b[0m\n\u001b[0m\u001b[1;32m   1422\u001b[0m         \u001b[0mconfig_class\u001b[0m\u001b[0;34m=\u001b[0m\u001b[0m_CONFIG_FOR_DOC\u001b[0m\u001b[0;34m,\u001b[0m\u001b[0;34m\u001b[0m\u001b[0;34m\u001b[0m\u001b[0m\n\u001b[1;32m   1423\u001b[0m         \u001b[0mexpected_output\u001b[0m\u001b[0;34m=\u001b[0m\u001b[0;34m\"'paris'\"\u001b[0m\u001b[0;34m,\u001b[0m\u001b[0;34m\u001b[0m\u001b[0;34m\u001b[0m\u001b[0m\n",
            "\u001b[0;32m/usr/local/lib/python3.10/dist-packages/transformers/modeling_tf_utils.py\u001b[0m in \u001b[0;36mtf__run_call_with_unpacked_inputs\u001b[0;34m(self, *args, **kwargs)\u001b[0m\n\u001b[1;32m     35\u001b[0m                 \u001b[0;32mtry\u001b[0m\u001b[0;34m:\u001b[0m\u001b[0;34m\u001b[0m\u001b[0;34m\u001b[0m\u001b[0m\n\u001b[1;32m     36\u001b[0m                     \u001b[0mdo_return\u001b[0m \u001b[0;34m=\u001b[0m \u001b[0;32mTrue\u001b[0m\u001b[0;34m\u001b[0m\u001b[0;34m\u001b[0m\u001b[0m\n\u001b[0;32m---> 37\u001b[0;31m                     \u001b[0mretval_\u001b[0m \u001b[0;34m=\u001b[0m \u001b[0mag__\u001b[0m\u001b[0;34m.\u001b[0m\u001b[0mconverted_call\u001b[0m\u001b[0;34m(\u001b[0m\u001b[0mag__\u001b[0m\u001b[0;34m.\u001b[0m\u001b[0mld\u001b[0m\u001b[0;34m(\u001b[0m\u001b[0mfunc\u001b[0m\u001b[0;34m)\u001b[0m\u001b[0;34m,\u001b[0m \u001b[0;34m(\u001b[0m\u001b[0mag__\u001b[0m\u001b[0;34m.\u001b[0m\u001b[0mld\u001b[0m\u001b[0;34m(\u001b[0m\u001b[0mself\u001b[0m\u001b[0;34m)\u001b[0m\u001b[0;34m,\u001b[0m\u001b[0;34m)\u001b[0m\u001b[0;34m,\u001b[0m \u001b[0mdict\u001b[0m\u001b[0;34m(\u001b[0m\u001b[0;34m**\u001b[0m\u001b[0mag__\u001b[0m\u001b[0;34m.\u001b[0m\u001b[0mld\u001b[0m\u001b[0;34m(\u001b[0m\u001b[0munpacked_inputs\u001b[0m\u001b[0;34m)\u001b[0m\u001b[0;34m)\u001b[0m\u001b[0;34m,\u001b[0m \u001b[0mfscope\u001b[0m\u001b[0;34m)\u001b[0m\u001b[0;34m\u001b[0m\u001b[0;34m\u001b[0m\u001b[0m\n\u001b[0m\u001b[1;32m     38\u001b[0m                 \u001b[0;32mexcept\u001b[0m\u001b[0;34m:\u001b[0m\u001b[0;34m\u001b[0m\u001b[0;34m\u001b[0m\u001b[0m\n\u001b[1;32m     39\u001b[0m                     \u001b[0mdo_return\u001b[0m \u001b[0;34m=\u001b[0m \u001b[0;32mFalse\u001b[0m\u001b[0;34m\u001b[0m\u001b[0;34m\u001b[0m\u001b[0m\n",
            "\u001b[0;32m/usr/local/lib/python3.10/dist-packages/transformers/models/bert/modeling_tf_bert.py\u001b[0m in \u001b[0;36mcall\u001b[0;34m(self, input_ids, attention_mask, token_type_ids, position_ids, head_mask, inputs_embeds, encoder_hidden_states, encoder_attention_mask, past_key_values, use_cache, output_attentions, output_hidden_states, return_dict, training)\u001b[0m\n\u001b[1;32m    886\u001b[0m     ) -> Union[TFBaseModelOutputWithPoolingAndCrossAttentions, Tuple[tf.Tensor]]:\n\u001b[1;32m    887\u001b[0m         \u001b[0;32mif\u001b[0m \u001b[0;32mnot\u001b[0m \u001b[0mself\u001b[0m\u001b[0;34m.\u001b[0m\u001b[0mconfig\u001b[0m\u001b[0;34m.\u001b[0m\u001b[0mis_decoder\u001b[0m\u001b[0;34m:\u001b[0m\u001b[0;34m\u001b[0m\u001b[0;34m\u001b[0m\u001b[0m\n\u001b[0;32m--> 888\u001b[0;31m             \u001b[0muse_cache\u001b[0m \u001b[0;34m=\u001b[0m \u001b[0;32mFalse\u001b[0m\u001b[0;34m\u001b[0m\u001b[0;34m\u001b[0m\u001b[0m\n\u001b[0m\u001b[1;32m    889\u001b[0m \u001b[0;34m\u001b[0m\u001b[0m\n\u001b[1;32m    890\u001b[0m         \u001b[0;32mif\u001b[0m \u001b[0minput_ids\u001b[0m \u001b[0;32mis\u001b[0m \u001b[0;32mnot\u001b[0m \u001b[0;32mNone\u001b[0m \u001b[0;32mand\u001b[0m \u001b[0minputs_embeds\u001b[0m \u001b[0;32mis\u001b[0m \u001b[0;32mnot\u001b[0m \u001b[0;32mNone\u001b[0m\u001b[0;34m:\u001b[0m\u001b[0;34m\u001b[0m\u001b[0;34m\u001b[0m\u001b[0m\n",
            "\u001b[0;31mTypeError\u001b[0m: Exception encountered when calling layer \"BERT\" (type TFBertForMaskedLM).\n\nin user code:\n\n    File \"/usr/local/lib/python3.10/dist-packages/transformers/modeling_tf_utils.py\", line 802, in run_call_with_unpacked_inputs  *\n        return func(self, **unpacked_inputs)\n    File \"/usr/local/lib/python3.10/dist-packages/transformers/models/bert/modeling_tf_bert.py\", line 888, in call\n        use_cache = False\n\n    TypeError: Exception encountered when calling layer 'bert' (type TFBertMainLayer).\n    \n    in user code:\n    \n        File \"/usr/local/lib/python3.10/dist-packages/transformers/modeling_tf_utils.py\", line 802, in run_call_with_unpacked_inputs  *\n            return func(self, **unpacked_inputs)\n        File \"/usr/local/lib/python3.10/dist-packages/transformers/models/bert/modeling_tf_bert.py\", line 888, in call  **\n            use_cache = False\n        File \"/usr/local/lib/python3.10/dist-packages/keras/utils/traceback_utils.py\", line 70, in error_handler\n            \n    \n        TypeError: Exception encountered when calling layer 'embeddings' (type TFBertEmbeddings).\n        \n        in user code:\n        \n        \n            TypeError: outer_factory.<locals>.inner_factory.<locals>.tf__build() got an unexpected keyword argument 'position_ids'\n        \n        \n        Call arguments received by layer 'embeddings' (type TFBertEmbeddings):\n          • input_ids=tf.Tensor(shape=(None, None), dtype=int32)\n          • position_ids=None\n          • token_type_ids=tf.Tensor(shape=(None, None), dtype=int32)\n          • inputs_embeds=None\n          • past_key_values_length=0\n          • training=False\n    \n    \n    Call arguments received by layer 'bert' (type TFBertMainLayer):\n      • input_ids=tf.Tensor(shape=(None, None), dtype=int32)\n      • attention_mask=tf.Tensor(shape=(None, None), dtype=int32)\n      • token_type_ids=tf.Tensor(shape=(None, None), dtype=int32)\n      • position_ids=None\n      • head_mask=None\n      • inputs_embeds=None\n      • encoder_hidden_states=None\n      • encoder_attention_mask=None\n      • past_key_values=None\n      • use_cache=None\n      • output_attentions=False\n      • output_hidden_states=True\n      • return_dict=True\n      • training=False\n\n\nCall arguments received by layer \"BERT\" (type TFBertForMaskedLM):\n  • input_ids=tf.Tensor(shape=(None, None), dtype=int32)\n  • attention_mask=tf.Tensor(shape=(None, None), dtype=int32)\n  • token_type_ids=tf.Tensor(shape=(None, None), dtype=int32)\n  • position_ids=None\n  • head_mask=None\n  • inputs_embeds=None\n  • output_attentions=None\n  • output_hidden_states=True\n  • return_dict=None\n  • labels=None\n  • training=False"
          ]
        }
      ]
    },
    {
      "cell_type": "code",
      "source": [
        "test_tensor = get_ds(pd.concat([X_test,y_test],axis=1),\n",
        "                      Xcol='comment',\n",
        "                      ycol=['sentiment','speech_act','sarcasm'],\n",
        "                      max_padding=MAX_LENGTH,\n",
        "                      tokenizer=tokenizer,\n",
        "                      batch_size=1)"
      ],
      "metadata": {
        "id": "jXEPYrCiEyaS"
      },
      "execution_count": null,
      "outputs": []
    },
    {
      "cell_type": "code",
      "source": [
        "preds = model.predict(test_tensor)"
      ],
      "metadata": {
        "id": "jtVPD2vvE0jG"
      },
      "execution_count": null,
      "outputs": []
    },
    {
      "cell_type": "code",
      "source": [
        "preds = np.stack(list(preds))"
      ],
      "metadata": {
        "id": "f74ziRpKE14u"
      },
      "execution_count": null,
      "outputs": []
    },
    {
      "cell_type": "code",
      "source": [
        "test = []\n",
        "for i in list(test_tensor):\n",
        "    test.append(i[1].numpy()[0])"
      ],
      "metadata": {
        "id": "nMWgYU0dE3qa"
      },
      "execution_count": null,
      "outputs": []
    },
    {
      "cell_type": "code",
      "source": [
        "test = np.stack(test)"
      ],
      "metadata": {
        "id": "eN719DHVE4MY"
      },
      "execution_count": null,
      "outputs": []
    },
    {
      "cell_type": "code",
      "source": [
        "test.shape"
      ],
      "metadata": {
        "id": "2yQFGGdjE5DP"
      },
      "execution_count": null,
      "outputs": []
    },
    {
      "cell_type": "code",
      "source": [
        "sentiment_pred = np.argmax(preds[:,0:4],axis=1)\n",
        "speech_act_pred = np.argmax(preds[:,4:10],axis=1)\n",
        "sarcasm_pred = np.argmax(preds[:,10:12],axis=1)\n",
        "# dangerous_pred = np.argmax(preds[:,12:14],axis=1)\n",
        "\n",
        "sentiment_test = np.argmax(test[:,0:4],axis=1)\n",
        "speech_act_test = np.argmax(test[:,4:10],axis=1)\n",
        "sarcasm_test = np.argmax(test[:,10:12],axis=1)\n",
        "# dangerous_test = np.argmax(test[:,12:14],axis=1)"
      ],
      "metadata": {
        "id": "JwqYRokXE6_T"
      },
      "execution_count": null,
      "outputs": []
    },
    {
      "cell_type": "code",
      "source": [
        "print(classification_report(y_true=sentiment_test,y_pred=sentiment_pred))\n",
        "print(classification_report(y_true=speech_act_test,y_pred=speech_act_pred))\n",
        "print(classification_report(y_true=sarcasm_test,y_pred=sarcasm_pred))\n",
        "# print(classification_report(y_true=dangerous_test,y_pred=dangerous_pred))"
      ],
      "metadata": {
        "id": "7Km7kTeNE89D"
      },
      "execution_count": null,
      "outputs": []
    },
    {
      "cell_type": "code",
      "source": [
        "model.save_weights('model_3L4.h5')"
      ],
      "metadata": {
        "id": "znRR_R0pE-Am"
      },
      "execution_count": null,
      "outputs": []
    },
    {
      "cell_type": "markdown",
      "source": [
        "# Import the dataset from kaggle"
      ],
      "metadata": {
        "id": "-6kTjeROjYRl"
      }
    },
    {
      "source": [
        "# IMPORTANT: RUN THIS CELL IN ORDER TO IMPORT YOUR KAGGLE DATA SOURCES\n",
        "# TO THE CORRECT LOCATION (/kaggle/input) IN YOUR NOTEBOOK,\n",
        "# THEN FEEL FREE TO DELETE THIS CELL.\n",
        "# NOTE: THIS NOTEBOOK ENVIRONMENT DIFFERS FROM KAGGLE'S PYTHON\n",
        "# ENVIRONMENT SO THERE MAY BE MISSING LIBRARIES USED BY YOUR\n",
        "# NOTEBOOK.\n",
        "\n",
        "import os\n",
        "import sys\n",
        "from tempfile import NamedTemporaryFile\n",
        "from urllib.request import urlopen\n",
        "from urllib.parse import unquote, urlparse\n",
        "from urllib.error import HTTPError\n",
        "from zipfile import ZipFile\n",
        "import tarfile\n",
        "import shutil\n",
        "\n",
        "CHUNK_SIZE = 40960\n",
        "DATA_SOURCE_MAPPING = 'sarcasm-data-arabic-language:https%3A%2F%2Fstorage.googleapis.com%2Fkaggle-data-sets%2F4243361%2F7312608%2Fbundle%2Farchive.zip%3FX-Goog-Algorithm%3DGOOG4-RSA-SHA256%26X-Goog-Credential%3Dgcp-kaggle-com%2540kaggle-161607.iam.gserviceaccount.com%252F20240524%252Fauto%252Fstorage%252Fgoog4_request%26X-Goog-Date%3D20240524T231919Z%26X-Goog-Expires%3D259200%26X-Goog-SignedHeaders%3Dhost%26X-Goog-Signature%3D8dd7d7cd131c35071db5e9137c4f95ffacd62130b25beab74978c3d4e55f231550bf74c190a25dfc7e5ab91d2d7186774827f5671949d97b0756b83903ee46dc0e94f78d554c57ae7e9f21f5b1af4d98a44eb3b162610f73a5468e2d091581b1c82df0f691d6dcac12d6430391134fd056531fde2ec3038ad23dc2ad7393ae81abe44ea9379be237ef74b07fb130605ba921532f7251e94e47905730739f27c9cec3ff148e9db7cbd993bea59504c620c927f1c04084d73bb43c20cfa7dc3d041d4ee3d2867768c669de064c3bad7fefa48bc5e216bcd23de79945d823f15bb1bdbf4d426ecb57e10879e254c7fad03bb6cb4f5d3d4fff1eb1e3874235b1240b'\n",
        "\n",
        "KAGGLE_INPUT_PATH='/kaggle/input'\n",
        "KAGGLE_WORKING_PATH='/kaggle/working'\n",
        "KAGGLE_SYMLINK='kaggle'\n",
        "\n",
        "!umount /kaggle/input/ 2> /dev/null\n",
        "shutil.rmtree('/kaggle/input', ignore_errors=True)\n",
        "os.makedirs(KAGGLE_INPUT_PATH, 0o777, exist_ok=True)\n",
        "os.makedirs(KAGGLE_WORKING_PATH, 0o777, exist_ok=True)\n",
        "\n",
        "try:\n",
        "  os.symlink(KAGGLE_INPUT_PATH, os.path.join(\"..\", 'input'), target_is_directory=True)\n",
        "except FileExistsError:\n",
        "  pass\n",
        "try:\n",
        "  os.symlink(KAGGLE_WORKING_PATH, os.path.join(\"..\", 'working'), target_is_directory=True)\n",
        "except FileExistsError:\n",
        "  pass\n",
        "\n",
        "for data_source_mapping in DATA_SOURCE_MAPPING.split(','):\n",
        "    directory, download_url_encoded = data_source_mapping.split(':')\n",
        "    download_url = unquote(download_url_encoded)\n",
        "    filename = urlparse(download_url).path\n",
        "    destination_path = os.path.join(KAGGLE_INPUT_PATH, directory)\n",
        "    try:\n",
        "        with urlopen(download_url) as fileres, NamedTemporaryFile() as tfile:\n",
        "            total_length = fileres.headers['content-length']\n",
        "            print(f'Downloading {directory}, {total_length} bytes compressed')\n",
        "            dl = 0\n",
        "            data = fileres.read(CHUNK_SIZE)\n",
        "            while len(data) > 0:\n",
        "                dl += len(data)\n",
        "                tfile.write(data)\n",
        "                done = int(50 * dl / int(total_length))\n",
        "                sys.stdout.write(f\"\\r[{'=' * done}{' ' * (50-done)}] {dl} bytes downloaded\")\n",
        "                sys.stdout.flush()\n",
        "                data = fileres.read(CHUNK_SIZE)\n",
        "            if filename.endswith('.zip'):\n",
        "              with ZipFile(tfile) as zfile:\n",
        "                zfile.extractall(destination_path)\n",
        "            else:\n",
        "              with tarfile.open(tfile.name) as tarfile:\n",
        "                tarfile.extractall(destination_path)\n",
        "            print(f'\\nDownloaded and uncompressed: {directory}')\n",
        "    except HTTPError as e:\n",
        "        print(f'Failed to load (likely expired) {download_url} to path {destination_path}')\n",
        "        continue\n",
        "    except OSError as e:\n",
        "        print(f'Failed to load {download_url} to path {destination_path}')\n",
        "        continue\n",
        "\n",
        "print('Data source import complete.')\n"
      ],
      "metadata": {
        "id": "n6oFdUkua4mc",
        "colab": {
          "base_uri": "https://localhost:8080/"
        },
        "outputId": "9e129c60-762f-4cb6-9fea-faa84df6d6a0"
      },
      "cell_type": "code",
      "outputs": [
        {
          "output_type": "stream",
          "name": "stdout",
          "text": [
            "Downloading sarcasm-data-arabic-language, 786381 bytes compressed\n",
            "[==================================================] 786381 bytes downloaded\n",
            "Downloaded and uncompressed: sarcasm-data-arabic-language\n",
            "Data source import complete.\n"
          ]
        }
      ],
      "execution_count": null
    },
    {
      "cell_type": "markdown",
      "source": [
        "#Import important libraries"
      ],
      "metadata": {
        "id": "OcLN2rWCkEDl"
      }
    },
    {
      "cell_type": "code",
      "source": [
        "import pandas as pd\n",
        "import numpy as np\n",
        "import tensorflow as tf\n",
        "from transformers import AutoTokenizer, TFAutoModelForSequenceClassification\n",
        "from tensorflow.keras import backend as K"
      ],
      "metadata": {
        "_uuid": "8f2839f25d086af736a60e9eeb907d3b93b6e0e5",
        "_cell_guid": "b1076dfc-b9ad-4769-8c92-a6c4dae69d19",
        "execution": {
          "iopub.status.busy": "2023-12-31T10:51:36.850309Z",
          "iopub.execute_input": "2023-12-31T10:51:36.8507Z",
          "iopub.status.idle": "2023-12-31T10:52:11.669061Z",
          "shell.execute_reply.started": "2023-12-31T10:51:36.850656Z",
          "shell.execute_reply": "2023-12-31T10:52:11.668041Z"
        },
        "trusted": true,
        "id": "hBBTPLDha4mn"
      },
      "execution_count": null,
      "outputs": []
    },
    {
      "cell_type": "code",
      "source": [],
      "metadata": {
        "id": "FICwV9UgrCcb"
      },
      "execution_count": null,
      "outputs": []
    },
    {
      "cell_type": "markdown",
      "source": [
        "# Make a use of TPU"
      ],
      "metadata": {
        "id": "fpdXpRuQa4mp"
      }
    },
    {
      "cell_type": "code",
      "source": [
        "import tensorflow as tf\n",
        "print(\"Tensorflow version \" + tf.__version__)\n",
        "\n",
        "try:\n",
        "    tpu = tf.distribute.cluster_resolver.TPUClusterResolver()  # TPU detection\n",
        "    #print('Running on TPU ', tpu.cluster_spec().as_dict()['worker'])\n",
        "except ValueError:\n",
        "    raise BaseException('ERROR: Not connected to a TPU runtime; please see the previous cell in this notebook for instructions!')\n",
        "\n",
        "tf.config.experimental_connect_to_cluster(tpu)\n",
        "tf.tpu.experimental.initialize_tpu_system(tpu)\n",
        "tpu_strategy = tf.distribute.TPUStrategy(tpu)"
      ],
      "metadata": {
        "execution": {
          "iopub.status.busy": "2023-12-31T10:52:11.670768Z",
          "iopub.execute_input": "2023-12-31T10:52:11.671317Z",
          "iopub.status.idle": "2023-12-31T10:52:19.652271Z",
          "shell.execute_reply.started": "2023-12-31T10:52:11.671285Z",
          "shell.execute_reply": "2023-12-31T10:52:19.651295Z"
        },
        "trusted": true,
        "id": "Srmh-Z-wa4mr",
        "colab": {
          "base_uri": "https://localhost:8080/"
        },
        "outputId": "ea0b3047-b9bb-48e8-9d49-83df78406d7d"
      },
      "execution_count": null,
      "outputs": [
        {
          "output_type": "stream",
          "name": "stdout",
          "text": [
            "Tensorflow version 2.12.0\n"
          ]
        }
      ]
    },
    {
      "cell_type": "markdown",
      "source": [
        "# Load the model and the tokenizer"
      ],
      "metadata": {
        "id": "DOBjyMUza4ms"
      }
    },
    {
      "cell_type": "markdown",
      "source": [
        "The model is MARBERTv2, it is a BERT model trained on arabic language by UBC.\n",
        "\n",
        "This is the model hugging face repo:\n",
        "https://huggingface.co/UBC-NLP/MARBERTv2"
      ],
      "metadata": {
        "id": "jDg1Ar2za4mt"
      }
    },
    {
      "cell_type": "code",
      "source": [
        "with tpu_strategy.scope():\n",
        "    model = TFAutoModelForSequenceClassification.from_pretrained('UBC-NLP/MARBERTv2',num_labels=2)\n",
        "tokenizer = AutoTokenizer.from_pretrained(\"UBC-NLP/MARBERTv2\")"
      ],
      "metadata": {
        "execution": {
          "iopub.status.busy": "2023-12-31T10:52:19.653489Z",
          "iopub.execute_input": "2023-12-31T10:52:19.653914Z",
          "iopub.status.idle": "2023-12-31T10:52:47.677781Z",
          "shell.execute_reply.started": "2023-12-31T10:52:19.653878Z",
          "shell.execute_reply": "2023-12-31T10:52:47.676819Z"
        },
        "trusted": true,
        "id": "uKOkqfS_a4mu",
        "colab": {
          "base_uri": "https://localhost:8080/",
          "height": 371,
          "referenced_widgets": [
            "8aec40d82e24461db67fe3566a826845",
            "f1a5dd9500a3472090d94f137aaae7d6",
            "9ca630ac6420460798e16c97d15e69f1",
            "45eb12b61539416bb868a7a15953d97a",
            "db3e1563f7f44821b68578acb83d5ca0",
            "53ee0f244d4d471284f3e45d66a947bb",
            "effc0e8b0e3440b59eac3d42d9384c03",
            "20806a7506b847b29ba06538b93cf4f7",
            "6ae58ea9b33742d288ce2107f048cf06",
            "ae3eb3932d4a436aa9732b38c71017fc",
            "a23241237d5c453fb1039ac488ea07b0",
            "3f6c5f982f8a4f74a1aa1fed5fc6375c",
            "47499924f00642d68f7848f3430ce4cf",
            "fa622b98a885420183f21e07423a2285",
            "c21dd7cb03ef4c7eb149f5a8df7cf9e3",
            "7a86d3b32d0147c3ac71f4a46ba49ffa",
            "1e1fa09545e048cb818939b5a5088eff",
            "3d7d0d0f277f42df8cd4070edb6c19fa",
            "fdb694bb76cb405298389522e08cd65e",
            "9ecb1219b36249b19a1c56146061c2a3",
            "042bb53594a1442dae46a3ef6900a7b1",
            "d09af9bcb40640a3831ddb3fb7d3e9cb",
            "5124375fdcae48648a83ee51d875167d",
            "87a3fec087e042c3a72b53ac3e54fd05",
            "b8acf648e9914789a69b334079e7aa6f",
            "d115809c4d8f48e5986dc5e753aca1bf",
            "073135e7a1294fee9e5c0f223d7e0a73",
            "581a9f170e0448edbc2df77174d1882d",
            "effa925be1ad44b8ad8f5cb515d68cb0",
            "7ff302d2adea42c8b550a77c65214ed1",
            "26ae92ba14234a299c00f9f02c170d52",
            "f08b4572da084cae9cee42f53573f361",
            "04bb85529c8d41c8959ab5a0ab91c9f7",
            "62566d30eb6a4d03b05b8be982bc1ba9",
            "9a1250ae7c2d4011bde0698ea4fdf0af",
            "d5401eedb49b4001b8df91af2b31405c",
            "44f3a72b1c3648399eeafe5cc6ca4de1",
            "26f1663a23dd46d186c59bb8a948d350",
            "c534d1b7149b4421a2600fd396272126",
            "360cc9afc7174569a8fd7068a12836ad",
            "6f5a5dec42e54f5c82f2ed806ddc8345",
            "d6e4c69656f545138a98b7bdb84f9260",
            "f61af9eadef74ffd8e476699ae7aa5f1",
            "88b4b3f3ba4d4fc294cb0a59523be893",
            "9aaec8382a0848089dd291241b477b45",
            "925f946a319e434dbd3f326eef4474ae",
            "3acfa7069ae547ce956de40c303227cf",
            "3f43b460382b4a8b8b27be7ed03c7204",
            "e2ba337b78e748419fe477002ca813cf",
            "7bd24b3b5b8a433bbae9abf2f9c108c6",
            "a310923d511a42f7aa34f8215b3ea3a0",
            "6ea0df885dac40a98f720ecf95c5337d",
            "6454f37915cf4800a5c793af960cc246",
            "b20bbc79e0f44f47b51d238ea87b9854",
            "10534cf5fe3f47f29d60b3969c6b8fac"
          ]
        },
        "outputId": "9eec4a8d-2bca-4e18-b827-c6602076a108"
      },
      "execution_count": null,
      "outputs": [
        {
          "output_type": "stream",
          "name": "stderr",
          "text": [
            "/usr/local/lib/python3.10/dist-packages/huggingface_hub/utils/_token.py:89: UserWarning: \n",
            "The secret `HF_TOKEN` does not exist in your Colab secrets.\n",
            "To authenticate with the Hugging Face Hub, create a token in your settings tab (https://huggingface.co/settings/tokens), set it as secret in your Google Colab and restart your session.\n",
            "You will be able to reuse this secret in all of your notebooks.\n",
            "Please note that authentication is recommended but still optional to access public models or datasets.\n",
            "  warnings.warn(\n"
          ]
        },
        {
          "output_type": "display_data",
          "data": {
            "text/plain": [
              "config.json:   0%|          | 0.00/757 [00:00<?, ?B/s]"
            ],
            "application/vnd.jupyter.widget-view+json": {
              "version_major": 2,
              "version_minor": 0,
              "model_id": "8aec40d82e24461db67fe3566a826845"
            }
          },
          "metadata": {}
        },
        {
          "output_type": "display_data",
          "data": {
            "text/plain": [
              "tf_model.h5:   0%|          | 0.00/652M [00:00<?, ?B/s]"
            ],
            "application/vnd.jupyter.widget-view+json": {
              "version_major": 2,
              "version_minor": 0,
              "model_id": "3f6c5f982f8a4f74a1aa1fed5fc6375c"
            }
          },
          "metadata": {}
        },
        {
          "output_type": "stream",
          "name": "stderr",
          "text": [
            "All model checkpoint layers were used when initializing TFBertForSequenceClassification.\n",
            "\n",
            "Some layers of TFBertForSequenceClassification were not initialized from the model checkpoint at UBC-NLP/MARBERTv2 and are newly initialized: ['classifier']\n",
            "You should probably TRAIN this model on a down-stream task to be able to use it for predictions and inference.\n"
          ]
        },
        {
          "output_type": "display_data",
          "data": {
            "text/plain": [
              "tokenizer_config.json:   0%|          | 0.00/439 [00:00<?, ?B/s]"
            ],
            "application/vnd.jupyter.widget-view+json": {
              "version_major": 2,
              "version_minor": 0,
              "model_id": "5124375fdcae48648a83ee51d875167d"
            }
          },
          "metadata": {}
        },
        {
          "output_type": "display_data",
          "data": {
            "text/plain": [
              "vocab.txt:   0%|          | 0.00/1.10M [00:00<?, ?B/s]"
            ],
            "application/vnd.jupyter.widget-view+json": {
              "version_major": 2,
              "version_minor": 0,
              "model_id": "62566d30eb6a4d03b05b8be982bc1ba9"
            }
          },
          "metadata": {}
        },
        {
          "output_type": "display_data",
          "data": {
            "text/plain": [
              "special_tokens_map.json:   0%|          | 0.00/112 [00:00<?, ?B/s]"
            ],
            "application/vnd.jupyter.widget-view+json": {
              "version_major": 2,
              "version_minor": 0,
              "model_id": "9aaec8382a0848089dd291241b477b45"
            }
          },
          "metadata": {}
        }
      ]
    },
    {
      "cell_type": "markdown",
      "source": [
        "# Load and transform adata"
      ],
      "metadata": {
        "id": "o5SQJKQoa4mv"
      }
    },
    {
      "cell_type": "code",
      "source": [
        "sarcasm_train = pd.read_csv('/kaggle/input/sarcasm-data-arabic-language/ArSarcasm_train.csv')\n",
        "sarcasm_test = pd.read_csv('/kaggle/input/sarcasm-data-arabic-language/ArSarcasm_test.csv')"
      ],
      "metadata": {
        "execution": {
          "iopub.status.busy": "2023-12-31T10:52:47.679934Z",
          "iopub.execute_input": "2023-12-31T10:52:47.680212Z",
          "iopub.status.idle": "2023-12-31T10:52:47.772711Z",
          "shell.execute_reply.started": "2023-12-31T10:52:47.680184Z",
          "shell.execute_reply": "2023-12-31T10:52:47.771769Z"
        },
        "trusted": true,
        "id": "9EkNIoena4mw"
      },
      "execution_count": null,
      "outputs": []
    },
    {
      "cell_type": "code",
      "source": [
        "# sarcasm_train = pd.read_csv ('/content/test_data.csv' , encoding='utf-8')\n",
        "# sarcasm_test = pd.read_csv ('/content/ArSarcasm_test.csv', encoding='cp1256')"
      ],
      "metadata": {
        "id": "Uoh4YxFFkQEJ"
      },
      "execution_count": null,
      "outputs": []
    },
    {
      "cell_type": "code",
      "source": [
        "sarcasm_train.head()"
      ],
      "metadata": {
        "execution": {
          "iopub.status.busy": "2023-12-31T10:52:47.773665Z",
          "iopub.execute_input": "2023-12-31T10:52:47.773927Z",
          "iopub.status.idle": "2023-12-31T10:52:47.789403Z",
          "shell.execute_reply.started": "2023-12-31T10:52:47.773898Z",
          "shell.execute_reply": "2023-12-31T10:52:47.788667Z"
        },
        "trusted": true,
        "id": "ZYFz-y47a4mx",
        "colab": {
          "base_uri": "https://localhost:8080/",
          "height": 206
        },
        "outputId": "e889d969-d521-4b5b-b4f2-0acc4b04fcf3"
      },
      "execution_count": null,
      "outputs": [
        {
          "output_type": "execute_result",
          "data": {
            "text/plain": [
              "  dialect  sarcasm sentiment original_sentiment  \\\n",
              "0    gulf    False  negative           negative   \n",
              "1     msa    False   neutral           positive   \n",
              "2   egypt    False   neutral            neutral   \n",
              "3  levant     True   neutral           negative   \n",
              "4     msa    False   neutral           negative   \n",
              "\n",
              "                                               tweet   source  \n",
              "0  \"نصيحه ما عمرك اتنزل لعبة سوبر ماريو مش زي ما ...  semeval  \n",
              "1  \"#نادين_نسيب_نجيم ❤️❤️❤️مجلة #ماري_كلير 💭#ملكة...  semeval  \n",
              "2                      \"@Alito_NBA اتوقع انه بيستمر\"  semeval  \n",
              "3     \"@KSA24 يعني \"بموافقتنا\" لأن دمشق صايرة موسكو\"  semeval  \n",
              "4  \"RT @alaahmad20: قائد في الحرس يعترف بفقدان ال...  semeval  "
            ],
            "text/html": [
              "\n",
              "  <div id=\"df-0f090989-e2c0-414e-8b70-6d4b0177e8da\" class=\"colab-df-container\">\n",
              "    <div>\n",
              "<style scoped>\n",
              "    .dataframe tbody tr th:only-of-type {\n",
              "        vertical-align: middle;\n",
              "    }\n",
              "\n",
              "    .dataframe tbody tr th {\n",
              "        vertical-align: top;\n",
              "    }\n",
              "\n",
              "    .dataframe thead th {\n",
              "        text-align: right;\n",
              "    }\n",
              "</style>\n",
              "<table border=\"1\" class=\"dataframe\">\n",
              "  <thead>\n",
              "    <tr style=\"text-align: right;\">\n",
              "      <th></th>\n",
              "      <th>dialect</th>\n",
              "      <th>sarcasm</th>\n",
              "      <th>sentiment</th>\n",
              "      <th>original_sentiment</th>\n",
              "      <th>tweet</th>\n",
              "      <th>source</th>\n",
              "    </tr>\n",
              "  </thead>\n",
              "  <tbody>\n",
              "    <tr>\n",
              "      <th>0</th>\n",
              "      <td>gulf</td>\n",
              "      <td>False</td>\n",
              "      <td>negative</td>\n",
              "      <td>negative</td>\n",
              "      <td>\"نصيحه ما عمرك اتنزل لعبة سوبر ماريو مش زي ما ...</td>\n",
              "      <td>semeval</td>\n",
              "    </tr>\n",
              "    <tr>\n",
              "      <th>1</th>\n",
              "      <td>msa</td>\n",
              "      <td>False</td>\n",
              "      <td>neutral</td>\n",
              "      <td>positive</td>\n",
              "      <td>\"#نادين_نسيب_نجيم ❤️❤️❤️مجلة #ماري_كلير 💭#ملكة...</td>\n",
              "      <td>semeval</td>\n",
              "    </tr>\n",
              "    <tr>\n",
              "      <th>2</th>\n",
              "      <td>egypt</td>\n",
              "      <td>False</td>\n",
              "      <td>neutral</td>\n",
              "      <td>neutral</td>\n",
              "      <td>\"@Alito_NBA اتوقع انه بيستمر\"</td>\n",
              "      <td>semeval</td>\n",
              "    </tr>\n",
              "    <tr>\n",
              "      <th>3</th>\n",
              "      <td>levant</td>\n",
              "      <td>True</td>\n",
              "      <td>neutral</td>\n",
              "      <td>negative</td>\n",
              "      <td>\"@KSA24 يعني \"بموافقتنا\" لأن دمشق صايرة موسكو\"</td>\n",
              "      <td>semeval</td>\n",
              "    </tr>\n",
              "    <tr>\n",
              "      <th>4</th>\n",
              "      <td>msa</td>\n",
              "      <td>False</td>\n",
              "      <td>neutral</td>\n",
              "      <td>negative</td>\n",
              "      <td>\"RT @alaahmad20: قائد في الحرس يعترف بفقدان ال...</td>\n",
              "      <td>semeval</td>\n",
              "    </tr>\n",
              "  </tbody>\n",
              "</table>\n",
              "</div>\n",
              "    <div class=\"colab-df-buttons\">\n",
              "\n",
              "  <div class=\"colab-df-container\">\n",
              "    <button class=\"colab-df-convert\" onclick=\"convertToInteractive('df-0f090989-e2c0-414e-8b70-6d4b0177e8da')\"\n",
              "            title=\"Convert this dataframe to an interactive table.\"\n",
              "            style=\"display:none;\">\n",
              "\n",
              "  <svg xmlns=\"http://www.w3.org/2000/svg\" height=\"24px\" viewBox=\"0 -960 960 960\">\n",
              "    <path d=\"M120-120v-720h720v720H120Zm60-500h600v-160H180v160Zm220 220h160v-160H400v160Zm0 220h160v-160H400v160ZM180-400h160v-160H180v160Zm440 0h160v-160H620v160ZM180-180h160v-160H180v160Zm440 0h160v-160H620v160Z\"/>\n",
              "  </svg>\n",
              "    </button>\n",
              "\n",
              "  <style>\n",
              "    .colab-df-container {\n",
              "      display:flex;\n",
              "      gap: 12px;\n",
              "    }\n",
              "\n",
              "    .colab-df-convert {\n",
              "      background-color: #E8F0FE;\n",
              "      border: none;\n",
              "      border-radius: 50%;\n",
              "      cursor: pointer;\n",
              "      display: none;\n",
              "      fill: #1967D2;\n",
              "      height: 32px;\n",
              "      padding: 0 0 0 0;\n",
              "      width: 32px;\n",
              "    }\n",
              "\n",
              "    .colab-df-convert:hover {\n",
              "      background-color: #E2EBFA;\n",
              "      box-shadow: 0px 1px 2px rgba(60, 64, 67, 0.3), 0px 1px 3px 1px rgba(60, 64, 67, 0.15);\n",
              "      fill: #174EA6;\n",
              "    }\n",
              "\n",
              "    .colab-df-buttons div {\n",
              "      margin-bottom: 4px;\n",
              "    }\n",
              "\n",
              "    [theme=dark] .colab-df-convert {\n",
              "      background-color: #3B4455;\n",
              "      fill: #D2E3FC;\n",
              "    }\n",
              "\n",
              "    [theme=dark] .colab-df-convert:hover {\n",
              "      background-color: #434B5C;\n",
              "      box-shadow: 0px 1px 3px 1px rgba(0, 0, 0, 0.15);\n",
              "      filter: drop-shadow(0px 1px 2px rgba(0, 0, 0, 0.3));\n",
              "      fill: #FFFFFF;\n",
              "    }\n",
              "  </style>\n",
              "\n",
              "    <script>\n",
              "      const buttonEl =\n",
              "        document.querySelector('#df-0f090989-e2c0-414e-8b70-6d4b0177e8da button.colab-df-convert');\n",
              "      buttonEl.style.display =\n",
              "        google.colab.kernel.accessAllowed ? 'block' : 'none';\n",
              "\n",
              "      async function convertToInteractive(key) {\n",
              "        const element = document.querySelector('#df-0f090989-e2c0-414e-8b70-6d4b0177e8da');\n",
              "        const dataTable =\n",
              "          await google.colab.kernel.invokeFunction('convertToInteractive',\n",
              "                                                    [key], {});\n",
              "        if (!dataTable) return;\n",
              "\n",
              "        const docLinkHtml = 'Like what you see? Visit the ' +\n",
              "          '<a target=\"_blank\" href=https://colab.research.google.com/notebooks/data_table.ipynb>data table notebook</a>'\n",
              "          + ' to learn more about interactive tables.';\n",
              "        element.innerHTML = '';\n",
              "        dataTable['output_type'] = 'display_data';\n",
              "        await google.colab.output.renderOutput(dataTable, element);\n",
              "        const docLink = document.createElement('div');\n",
              "        docLink.innerHTML = docLinkHtml;\n",
              "        element.appendChild(docLink);\n",
              "      }\n",
              "    </script>\n",
              "  </div>\n",
              "\n",
              "\n",
              "<div id=\"df-221f3906-89dc-4ca8-b4ad-3b3f74227f03\">\n",
              "  <button class=\"colab-df-quickchart\" onclick=\"quickchart('df-221f3906-89dc-4ca8-b4ad-3b3f74227f03')\"\n",
              "            title=\"Suggest charts\"\n",
              "            style=\"display:none;\">\n",
              "\n",
              "<svg xmlns=\"http://www.w3.org/2000/svg\" height=\"24px\"viewBox=\"0 0 24 24\"\n",
              "     width=\"24px\">\n",
              "    <g>\n",
              "        <path d=\"M19 3H5c-1.1 0-2 .9-2 2v14c0 1.1.9 2 2 2h14c1.1 0 2-.9 2-2V5c0-1.1-.9-2-2-2zM9 17H7v-7h2v7zm4 0h-2V7h2v10zm4 0h-2v-4h2v4z\"/>\n",
              "    </g>\n",
              "</svg>\n",
              "  </button>\n",
              "\n",
              "<style>\n",
              "  .colab-df-quickchart {\n",
              "      --bg-color: #E8F0FE;\n",
              "      --fill-color: #1967D2;\n",
              "      --hover-bg-color: #E2EBFA;\n",
              "      --hover-fill-color: #174EA6;\n",
              "      --disabled-fill-color: #AAA;\n",
              "      --disabled-bg-color: #DDD;\n",
              "  }\n",
              "\n",
              "  [theme=dark] .colab-df-quickchart {\n",
              "      --bg-color: #3B4455;\n",
              "      --fill-color: #D2E3FC;\n",
              "      --hover-bg-color: #434B5C;\n",
              "      --hover-fill-color: #FFFFFF;\n",
              "      --disabled-bg-color: #3B4455;\n",
              "      --disabled-fill-color: #666;\n",
              "  }\n",
              "\n",
              "  .colab-df-quickchart {\n",
              "    background-color: var(--bg-color);\n",
              "    border: none;\n",
              "    border-radius: 50%;\n",
              "    cursor: pointer;\n",
              "    display: none;\n",
              "    fill: var(--fill-color);\n",
              "    height: 32px;\n",
              "    padding: 0;\n",
              "    width: 32px;\n",
              "  }\n",
              "\n",
              "  .colab-df-quickchart:hover {\n",
              "    background-color: var(--hover-bg-color);\n",
              "    box-shadow: 0 1px 2px rgba(60, 64, 67, 0.3), 0 1px 3px 1px rgba(60, 64, 67, 0.15);\n",
              "    fill: var(--button-hover-fill-color);\n",
              "  }\n",
              "\n",
              "  .colab-df-quickchart-complete:disabled,\n",
              "  .colab-df-quickchart-complete:disabled:hover {\n",
              "    background-color: var(--disabled-bg-color);\n",
              "    fill: var(--disabled-fill-color);\n",
              "    box-shadow: none;\n",
              "  }\n",
              "\n",
              "  .colab-df-spinner {\n",
              "    border: 2px solid var(--fill-color);\n",
              "    border-color: transparent;\n",
              "    border-bottom-color: var(--fill-color);\n",
              "    animation:\n",
              "      spin 1s steps(1) infinite;\n",
              "  }\n",
              "\n",
              "  @keyframes spin {\n",
              "    0% {\n",
              "      border-color: transparent;\n",
              "      border-bottom-color: var(--fill-color);\n",
              "      border-left-color: var(--fill-color);\n",
              "    }\n",
              "    20% {\n",
              "      border-color: transparent;\n",
              "      border-left-color: var(--fill-color);\n",
              "      border-top-color: var(--fill-color);\n",
              "    }\n",
              "    30% {\n",
              "      border-color: transparent;\n",
              "      border-left-color: var(--fill-color);\n",
              "      border-top-color: var(--fill-color);\n",
              "      border-right-color: var(--fill-color);\n",
              "    }\n",
              "    40% {\n",
              "      border-color: transparent;\n",
              "      border-right-color: var(--fill-color);\n",
              "      border-top-color: var(--fill-color);\n",
              "    }\n",
              "    60% {\n",
              "      border-color: transparent;\n",
              "      border-right-color: var(--fill-color);\n",
              "    }\n",
              "    80% {\n",
              "      border-color: transparent;\n",
              "      border-right-color: var(--fill-color);\n",
              "      border-bottom-color: var(--fill-color);\n",
              "    }\n",
              "    90% {\n",
              "      border-color: transparent;\n",
              "      border-bottom-color: var(--fill-color);\n",
              "    }\n",
              "  }\n",
              "</style>\n",
              "\n",
              "  <script>\n",
              "    async function quickchart(key) {\n",
              "      const quickchartButtonEl =\n",
              "        document.querySelector('#' + key + ' button');\n",
              "      quickchartButtonEl.disabled = true;  // To prevent multiple clicks.\n",
              "      quickchartButtonEl.classList.add('colab-df-spinner');\n",
              "      try {\n",
              "        const charts = await google.colab.kernel.invokeFunction(\n",
              "            'suggestCharts', [key], {});\n",
              "      } catch (error) {\n",
              "        console.error('Error during call to suggestCharts:', error);\n",
              "      }\n",
              "      quickchartButtonEl.classList.remove('colab-df-spinner');\n",
              "      quickchartButtonEl.classList.add('colab-df-quickchart-complete');\n",
              "    }\n",
              "    (() => {\n",
              "      let quickchartButtonEl =\n",
              "        document.querySelector('#df-221f3906-89dc-4ca8-b4ad-3b3f74227f03 button');\n",
              "      quickchartButtonEl.style.display =\n",
              "        google.colab.kernel.accessAllowed ? 'block' : 'none';\n",
              "    })();\n",
              "  </script>\n",
              "</div>\n",
              "\n",
              "    </div>\n",
              "  </div>\n"
            ],
            "application/vnd.google.colaboratory.intrinsic+json": {
              "type": "dataframe",
              "variable_name": "sarcasm_train",
              "summary": "{\n  \"name\": \"sarcasm_train\",\n  \"rows\": 8437,\n  \"fields\": [\n    {\n      \"column\": \"dialect\",\n      \"properties\": {\n        \"dtype\": \"category\",\n        \"num_unique_values\": 5,\n        \"samples\": [\n          \"msa\",\n          \"magreb\",\n          \"egypt\"\n        ],\n        \"semantic_type\": \"\",\n        \"description\": \"\"\n      }\n    },\n    {\n      \"column\": \"sarcasm\",\n      \"properties\": {\n        \"dtype\": \"boolean\",\n        \"num_unique_values\": 2,\n        \"samples\": [\n          true,\n          false\n        ],\n        \"semantic_type\": \"\",\n        \"description\": \"\"\n      }\n    },\n    {\n      \"column\": \"sentiment\",\n      \"properties\": {\n        \"dtype\": \"category\",\n        \"num_unique_values\": 3,\n        \"samples\": [\n          \"negative\",\n          \"neutral\"\n        ],\n        \"semantic_type\": \"\",\n        \"description\": \"\"\n      }\n    },\n    {\n      \"column\": \"original_sentiment\",\n      \"properties\": {\n        \"dtype\": \"category\",\n        \"num_unique_values\": 3,\n        \"samples\": [\n          \"negative\",\n          \"positive\"\n        ],\n        \"semantic_type\": \"\",\n        \"description\": \"\"\n      }\n    },\n    {\n      \"column\": \"tweet\",\n      \"properties\": {\n        \"dtype\": \"string\",\n        \"num_unique_values\": 8398,\n        \"samples\": [\n          \"\\\"#\\u063a\\u0648\\u062a\\u0634\\u064a \\\"\\u0641\\u0644\\u0648\\u0631\\u0627\\\" \\u0627\\u0644\\u0646\\u0633\\u0627\\u0626\\u064a\\u0645\\u0639 \\u0646\\u063a\\u0645\\u0627\\u062a \\u0639\\u0637\\u0631\\u064a\\u0629 \\u0623\\u0643\\u062b\\u0631 \\u0639\\u0645\\u0642\\u0627\\u064b \\u0648\\u062c\\u0627\\u0630\\u0628\\u064a\\u0629\\u0627\\u062d\\u0635\\u0644\\u064a \\u0639\\u0644\\u064a\\u0647 \\u0645\\u0646 #\\u0646\\u0642\\u0637\\u0629_\\u0627\\u0644\\u0623\\u0646\\u0627\\u0642\\u0629 \\u0627\\u0644\\u0622\\u0646 \\u0641\\u064a #\\u0623\\u0645\\u0644\\u062c https://t.co/bM0GjfImCN\\\"\",\n          \"\\\"\\u062a\\u0631\\u0627\\u062c\\u0639 \\u0627\\u0644\\u0623\\u0633\\u0647\\u0645 \\u0627\\u0644\\u0635\\u064a\\u0646\\u064a\\u0629 \\u0645\\u0639 \\u0642\\u0644\\u0642 \\u0627\\u0644\\u0645\\u0633\\u062a\\u062b\\u0645\\u0631\\u064a\\u0646 \\u0645\\u0646 \\u0641\\u0631\\u0636 \\u0642\\u064a\\u0648\\u062f \\u0645\\u062d\\u062a\\u0645\\u0644\\u0629 \\u0639\\u0644\\u0649 \\u0627\\u0644\\u062a\\u062f\\u0627\\u0648\\u0644https://t.co/UJfZ50qqdJ#\\u0627\\u0644\\u0623\\u0633\\u0647\\u0645 #\\u0627\\u0644\\u0635\\u064a\\u0646 https://t.co/9yRlprNZ9S\\\"\"\n        ],\n        \"semantic_type\": \"\",\n        \"description\": \"\"\n      }\n    },\n    {\n      \"column\": \"source\",\n      \"properties\": {\n        \"dtype\": \"category\",\n        \"num_unique_values\": 2,\n        \"samples\": [\n          \"astd\",\n          \"semeval\"\n        ],\n        \"semantic_type\": \"\",\n        \"description\": \"\"\n      }\n    }\n  ]\n}"
            }
          },
          "metadata": {},
          "execution_count": 7
        }
      ]
    },
    {
      "cell_type": "markdown",
      "source": [
        "The target column is sarcasm\n",
        "\n",
        "now we need to convert the sarcasem column to one hot encoded"
      ],
      "metadata": {
        "id": "m_4tnkNda4my"
      }
    },
    {
      "cell_type": "markdown",
      "source": [
        "#### Show data distribution"
      ],
      "metadata": {
        "id": "dy1Qk844a4my"
      }
    },
    {
      "cell_type": "code",
      "source": [
        "sarcasm_train['sarcasm'].value_counts()"
      ],
      "metadata": {
        "execution": {
          "iopub.status.busy": "2023-12-31T10:52:47.790197Z",
          "iopub.execute_input": "2023-12-31T10:52:47.790429Z",
          "iopub.status.idle": "2023-12-31T10:52:47.796347Z",
          "shell.execute_reply.started": "2023-12-31T10:52:47.790404Z",
          "shell.execute_reply": "2023-12-31T10:52:47.795556Z"
        },
        "trusted": true,
        "id": "3-34VvPma4my",
        "colab": {
          "base_uri": "https://localhost:8080/"
        },
        "outputId": "cdaed61a-6929-48b0-d8eb-217e206e992a"
      },
      "execution_count": null,
      "outputs": [
        {
          "output_type": "execute_result",
          "data": {
            "text/plain": [
              "False    7100\n",
              "True     1337\n",
              "Name: sarcasm, dtype: int64"
            ]
          },
          "metadata": {},
          "execution_count": 8
        }
      ]
    },
    {
      "cell_type": "markdown",
      "source": [
        "#### The data is inbalanced, so we will assign a wieght to every class"
      ],
      "metadata": {
        "id": "QK_Mghi4a4mz"
      }
    },
    {
      "cell_type": "code",
      "source": [
        "counts = sarcasm_train['sarcasm'].value_counts()\n",
        "class_weights = 1 - (counts / counts.sum())"
      ],
      "metadata": {
        "execution": {
          "iopub.status.busy": "2023-12-31T10:52:47.797254Z",
          "iopub.execute_input": "2023-12-31T10:52:47.797517Z",
          "iopub.status.idle": "2023-12-31T10:52:47.805612Z",
          "shell.execute_reply.started": "2023-12-31T10:52:47.797488Z",
          "shell.execute_reply": "2023-12-31T10:52:47.804857Z"
        },
        "trusted": true,
        "id": "5qPNBb89a4mz"
      },
      "execution_count": null,
      "outputs": []
    },
    {
      "cell_type": "code",
      "source": [
        "class_weights = class_weights.tolist()"
      ],
      "metadata": {
        "execution": {
          "iopub.status.busy": "2023-12-31T10:52:47.806561Z",
          "iopub.execute_input": "2023-12-31T10:52:47.806859Z",
          "iopub.status.idle": "2023-12-31T10:52:47.815247Z",
          "shell.execute_reply.started": "2023-12-31T10:52:47.80683Z",
          "shell.execute_reply": "2023-12-31T10:52:47.814597Z"
        },
        "trusted": true,
        "id": "aiX9X4DUa4m0"
      },
      "execution_count": null,
      "outputs": []
    },
    {
      "cell_type": "code",
      "source": [
        "class_weights"
      ],
      "metadata": {
        "execution": {
          "iopub.status.busy": "2023-12-31T10:52:47.816129Z",
          "iopub.execute_input": "2023-12-31T10:52:47.816379Z",
          "iopub.status.idle": "2023-12-31T10:52:47.825685Z",
          "shell.execute_reply.started": "2023-12-31T10:52:47.816353Z",
          "shell.execute_reply": "2023-12-31T10:52:47.825006Z"
        },
        "trusted": true,
        "id": "yDsHN34la4m1",
        "colab": {
          "base_uri": "https://localhost:8080/"
        },
        "outputId": "0b5dd6e6-5c9a-4039-e415-def5e508d600"
      },
      "execution_count": null,
      "outputs": [
        {
          "output_type": "execute_result",
          "data": {
            "text/plain": [
              "[0.15846864999407373, 0.8415313500059263]"
            ]
          },
          "metadata": {},
          "execution_count": 11
        }
      ]
    },
    {
      "cell_type": "markdown",
      "source": [
        "#### As we see, we give the class with lower count a high weight"
      ],
      "metadata": {
        "id": "xikHj_Pja4m2"
      }
    },
    {
      "cell_type": "markdown",
      "source": [
        "### Transform the data"
      ],
      "metadata": {
        "id": "mCUz8oaSa4m2"
      }
    },
    {
      "cell_type": "code",
      "source": [
        "targer_values = sarcasm_train['sarcasm'].astype(int)"
      ],
      "metadata": {
        "execution": {
          "iopub.status.busy": "2023-12-31T10:52:47.828009Z",
          "iopub.execute_input": "2023-12-31T10:52:47.828253Z",
          "iopub.status.idle": "2023-12-31T10:52:47.834007Z",
          "shell.execute_reply.started": "2023-12-31T10:52:47.828228Z",
          "shell.execute_reply": "2023-12-31T10:52:47.833401Z"
        },
        "trusted": true,
        "id": "5cbmqqvQa4m2"
      },
      "execution_count": null,
      "outputs": []
    },
    {
      "cell_type": "code",
      "source": [
        "targer_values[0:5]"
      ],
      "metadata": {
        "execution": {
          "iopub.status.busy": "2023-12-31T10:52:47.834759Z",
          "iopub.execute_input": "2023-12-31T10:52:47.834977Z",
          "iopub.status.idle": "2023-12-31T10:52:47.844612Z",
          "shell.execute_reply.started": "2023-12-31T10:52:47.834953Z",
          "shell.execute_reply": "2023-12-31T10:52:47.843983Z"
        },
        "trusted": true,
        "id": "08fj7GATa4m2",
        "colab": {
          "base_uri": "https://localhost:8080/"
        },
        "outputId": "0db8f77d-de00-48d4-cad6-fcb2f3b0f3a1"
      },
      "execution_count": null,
      "outputs": [
        {
          "output_type": "execute_result",
          "data": {
            "text/plain": [
              "0    0\n",
              "1    0\n",
              "2    0\n",
              "3    1\n",
              "4    0\n",
              "Name: sarcasm, dtype: int64"
            ]
          },
          "metadata": {},
          "execution_count": 13
        }
      ]
    },
    {
      "cell_type": "code",
      "source": [
        "zero_arr = np.zeros([targer_values.shape[0],2])\n",
        "targer_values = targer_values.to_numpy()\n",
        "zero_arr[np.arange(targer_values.shape[0]), targer_values] = 1\n",
        "y = zero_arr"
      ],
      "metadata": {
        "execution": {
          "iopub.status.busy": "2023-12-31T10:52:47.845372Z",
          "iopub.execute_input": "2023-12-31T10:52:47.845651Z",
          "iopub.status.idle": "2023-12-31T10:52:47.854605Z",
          "shell.execute_reply.started": "2023-12-31T10:52:47.845611Z",
          "shell.execute_reply": "2023-12-31T10:52:47.853978Z"
        },
        "trusted": true,
        "id": "oOAiigvha4m3"
      },
      "execution_count": null,
      "outputs": []
    },
    {
      "cell_type": "code",
      "source": [],
      "metadata": {
        "id": "vGEAmFelrOlZ"
      },
      "execution_count": null,
      "outputs": []
    },
    {
      "cell_type": "code",
      "source": [
        "y[0:5]"
      ],
      "metadata": {
        "execution": {
          "iopub.status.busy": "2023-12-31T10:52:47.855383Z",
          "iopub.execute_input": "2023-12-31T10:52:47.85573Z",
          "iopub.status.idle": "2023-12-31T10:52:47.865247Z",
          "shell.execute_reply.started": "2023-12-31T10:52:47.855703Z",
          "shell.execute_reply": "2023-12-31T10:52:47.864549Z"
        },
        "trusted": true,
        "id": "3UUsTDhsa4m3",
        "colab": {
          "base_uri": "https://localhost:8080/"
        },
        "outputId": "fc31cc9d-9db2-4d51-85ac-ffda849a2cb9"
      },
      "execution_count": null,
      "outputs": [
        {
          "output_type": "execute_result",
          "data": {
            "text/plain": [
              "array([[1., 0.],\n",
              "       [1., 0.],\n",
              "       [1., 0.],\n",
              "       [0., 1.],\n",
              "       [1., 0.]])"
            ]
          },
          "metadata": {},
          "execution_count": 15
        }
      ]
    },
    {
      "cell_type": "code",
      "source": [
        "X = sarcasm_train['tweet']"
      ],
      "metadata": {
        "execution": {
          "iopub.status.busy": "2023-12-31T10:52:47.866195Z",
          "iopub.execute_input": "2023-12-31T10:52:47.866471Z",
          "iopub.status.idle": "2023-12-31T10:52:47.873926Z",
          "shell.execute_reply.started": "2023-12-31T10:52:47.866442Z",
          "shell.execute_reply": "2023-12-31T10:52:47.873313Z"
        },
        "trusted": true,
        "id": "Ztjg2cPsa4m4"
      },
      "execution_count": null,
      "outputs": []
    },
    {
      "cell_type": "markdown",
      "source": [
        "Now we need to tokenize the text to be ready to input to the model"
      ],
      "metadata": {
        "id": "FXP99Y0Ka4m4"
      }
    },
    {
      "cell_type": "code",
      "source": [
        "X_tokens = tokenizer(X.tolist(), padding=True)"
      ],
      "metadata": {
        "execution": {
          "iopub.status.busy": "2023-12-31T10:52:47.874728Z",
          "iopub.execute_input": "2023-12-31T10:52:47.874956Z",
          "iopub.status.idle": "2023-12-31T10:52:48.580775Z",
          "shell.execute_reply.started": "2023-12-31T10:52:47.874931Z",
          "shell.execute_reply": "2023-12-31T10:52:48.579851Z"
        },
        "trusted": true,
        "id": "j5LKWJEja4m4"
      },
      "execution_count": null,
      "outputs": []
    },
    {
      "cell_type": "markdown",
      "source": [
        "Now make a tensorflow dataset and batch it"
      ],
      "metadata": {
        "id": "4GqIggq9a4m5"
      }
    },
    {
      "cell_type": "code",
      "source": [
        "train_dataset = tf.data.Dataset.from_tensor_slices((\n",
        "      dict(X_tokens),\n",
        "      y.tolist()\n",
        "  ))"
      ],
      "metadata": {
        "execution": {
          "iopub.status.busy": "2023-12-31T10:52:48.58176Z",
          "iopub.execute_input": "2023-12-31T10:52:48.582024Z",
          "iopub.status.idle": "2023-12-31T10:52:51.678005Z",
          "shell.execute_reply.started": "2023-12-31T10:52:48.581995Z",
          "shell.execute_reply": "2023-12-31T10:52:51.677041Z"
        },
        "trusted": true,
        "id": "-KCxDWV-a4m5"
      },
      "execution_count": null,
      "outputs": []
    },
    {
      "cell_type": "code",
      "source": [
        "train_dataset = train_dataset.batch(32)"
      ],
      "metadata": {
        "execution": {
          "iopub.status.busy": "2023-12-31T10:52:51.678954Z",
          "iopub.execute_input": "2023-12-31T10:52:51.679211Z",
          "iopub.status.idle": "2023-12-31T10:52:51.685524Z",
          "shell.execute_reply.started": "2023-12-31T10:52:51.679185Z",
          "shell.execute_reply": "2023-12-31T10:52:51.684882Z"
        },
        "trusted": true,
        "id": "cHaHUzaVa4m6"
      },
      "execution_count": null,
      "outputs": []
    },
    {
      "cell_type": "markdown",
      "source": [
        "# Train the model"
      ],
      "metadata": {
        "id": "UzaVNEqXa4m6"
      }
    },
    {
      "cell_type": "markdown",
      "source": [
        "#### A function to compute a F1 score to use it as a metrics"
      ],
      "metadata": {
        "id": "vJpU-bwaa4m6"
      }
    },
    {
      "cell_type": "code",
      "source": [
        "def f_beta_score(y_true, y_pred):\n",
        "    beta=1\n",
        "    def recall_m(y_true, y_pred):\n",
        "        TP = K.sum(K.round(K.clip(y_true * y_pred, 0, 1)))\n",
        "        Positives = K.sum(K.round(K.clip(y_true, 0, 1)))\n",
        "\n",
        "        recall = TP / (Positives+K.epsilon())\n",
        "        return recall\n",
        "\n",
        "\n",
        "    def precision_m(y_true, y_pred):\n",
        "        TP = K.sum(K.round(K.clip(y_true * y_pred, 0, 1)))\n",
        "        Pred_Positives = K.sum(K.round(K.clip(y_pred, 0, 1)))\n",
        "\n",
        "        precision = TP / (Pred_Positives+K.epsilon())\n",
        "        return precision\n",
        "\n",
        "    precision, recall = precision_m(y_true, y_pred), recall_m(y_true, y_pred)\n",
        "\n",
        "    return (beta+1)*((precision*recall)/(precision+recall+K.epsilon()))"
      ],
      "metadata": {
        "execution": {
          "iopub.status.busy": "2023-12-31T10:52:51.686459Z",
          "iopub.execute_input": "2023-12-31T10:52:51.686738Z",
          "iopub.status.idle": "2023-12-31T10:52:51.700594Z",
          "shell.execute_reply.started": "2023-12-31T10:52:51.686709Z",
          "shell.execute_reply": "2023-12-31T10:52:51.699994Z"
        },
        "trusted": true,
        "id": "ZAmk-HMLa4m7"
      },
      "execution_count": null,
      "outputs": []
    },
    {
      "cell_type": "markdown",
      "source": [
        "#### The optimizer is AdamW\n",
        "#### The loss function is **Focal cross entropy** becuase the data is unbalanced and **Focal cross entropy** helps to learn hard examples"
      ],
      "metadata": {
        "id": "fz9kHxrza4m8"
      }
    },
    {
      "cell_type": "code",
      "source": [
        "optimizer = tf.keras.optimizers.AdamW(learning_rate=2e-5, weight_decay=0.001)\n",
        "\n",
        "loss = tf.keras.losses.CategoricalCrossentropy(from_logits=True)  # Set from_logits according to your model's output\n",
        "\n",
        "model.compile(optimizer=optimizer, loss=loss, metrics=['accuracy'])"
      ],
      "metadata": {
        "execution": {
          "iopub.status.busy": "2023-12-31T10:52:51.701415Z",
          "iopub.execute_input": "2023-12-31T10:52:51.701662Z",
          "iopub.status.idle": "2023-12-31T10:52:51.822798Z",
          "shell.execute_reply.started": "2023-12-31T10:52:51.701636Z",
          "shell.execute_reply": "2023-12-31T10:52:51.821823Z"
        },
        "trusted": true,
        "id": "5JFXH2g3a4m8"
      },
      "execution_count": null,
      "outputs": []
    },
    {
      "cell_type": "code",
      "source": [
        "model.fit(train_dataset, epochs=5)"
      ],
      "metadata": {
        "colab": {
          "base_uri": "https://localhost:8080/",
          "height": 495
        },
        "id": "_Mmi8G1mqKa_",
        "outputId": "1eb4693e-4442-4559-c618-9c2ccdac66d5"
      },
      "execution_count": null,
      "outputs": [
        {
          "output_type": "stream",
          "name": "stdout",
          "text": [
            "Epoch 1/5\n"
          ]
        },
        {
          "output_type": "error",
          "ename": "AttributeError",
          "evalue": "in user code:\n\n    File \"/usr/local/lib/python3.10/dist-packages/keras/engine/training.py\", line 1284, in train_function  *\n        return step_function(self, iterator)\n    File \"/usr/local/lib/python3.10/dist-packages/keras/engine/training.py\", line 1268, in step_function  **\n        \n    File \"/usr/local/lib/python3.10/dist-packages/keras/engine/training.py\", line 1249, in run_step  **\n        \n    File \"/usr/local/lib/python3.10/dist-packages/transformers/modeling_tf_utils.py\", line 1630, in train_step\n        x, y, sample_weight = keras.utils.unpack_x_y_sample_weight(data)\n\n    AttributeError: module 'keras.utils' has no attribute 'unpack_x_y_sample_weight'\n",
          "traceback": [
            "\u001b[0;31m---------------------------------------------------------------------------\u001b[0m",
            "\u001b[0;31mAttributeError\u001b[0m                            Traceback (most recent call last)",
            "\u001b[0;32m<ipython-input-52-d42e823ed7d1>\u001b[0m in \u001b[0;36m<cell line: 1>\u001b[0;34m()\u001b[0m\n\u001b[0;32m----> 1\u001b[0;31m \u001b[0mmodel\u001b[0m\u001b[0;34m.\u001b[0m\u001b[0mfit\u001b[0m\u001b[0;34m(\u001b[0m\u001b[0mtrain_dataset\u001b[0m\u001b[0;34m,\u001b[0m \u001b[0mepochs\u001b[0m\u001b[0;34m=\u001b[0m\u001b[0;36m5\u001b[0m\u001b[0;34m)\u001b[0m\u001b[0;34m\u001b[0m\u001b[0;34m\u001b[0m\u001b[0m\n\u001b[0m",
            "\u001b[0;32m/usr/local/lib/python3.10/dist-packages/transformers/modeling_tf_utils.py\u001b[0m in \u001b[0;36mfit\u001b[0;34m(self, *args, **kwargs)\u001b[0m\n\u001b[1;32m   1227\u001b[0m     \u001b[0;32mdef\u001b[0m \u001b[0mfit\u001b[0m\u001b[0;34m(\u001b[0m\u001b[0mself\u001b[0m\u001b[0;34m,\u001b[0m \u001b[0;34m*\u001b[0m\u001b[0margs\u001b[0m\u001b[0;34m,\u001b[0m \u001b[0;34m**\u001b[0m\u001b[0mkwargs\u001b[0m\u001b[0;34m)\u001b[0m\u001b[0;34m:\u001b[0m\u001b[0;34m\u001b[0m\u001b[0;34m\u001b[0m\u001b[0m\n\u001b[1;32m   1228\u001b[0m         \u001b[0margs\u001b[0m\u001b[0;34m,\u001b[0m \u001b[0mkwargs\u001b[0m \u001b[0;34m=\u001b[0m \u001b[0mconvert_batch_encoding\u001b[0m\u001b[0;34m(\u001b[0m\u001b[0;34m*\u001b[0m\u001b[0margs\u001b[0m\u001b[0;34m,\u001b[0m \u001b[0;34m**\u001b[0m\u001b[0mkwargs\u001b[0m\u001b[0;34m)\u001b[0m\u001b[0;34m\u001b[0m\u001b[0;34m\u001b[0m\u001b[0m\n\u001b[0;32m-> 1229\u001b[0;31m         \u001b[0;32mreturn\u001b[0m \u001b[0msuper\u001b[0m\u001b[0;34m(\u001b[0m\u001b[0;34m)\u001b[0m\u001b[0;34m.\u001b[0m\u001b[0mfit\u001b[0m\u001b[0;34m(\u001b[0m\u001b[0;34m*\u001b[0m\u001b[0margs\u001b[0m\u001b[0;34m,\u001b[0m \u001b[0;34m**\u001b[0m\u001b[0mkwargs\u001b[0m\u001b[0;34m)\u001b[0m\u001b[0;34m\u001b[0m\u001b[0;34m\u001b[0m\u001b[0m\n\u001b[0m\u001b[1;32m   1230\u001b[0m \u001b[0;34m\u001b[0m\u001b[0m\n\u001b[1;32m   1231\u001b[0m     \u001b[0;34m@\u001b[0m\u001b[0mfunctools\u001b[0m\u001b[0;34m.\u001b[0m\u001b[0mwraps\u001b[0m\u001b[0;34m(\u001b[0m\u001b[0mkeras\u001b[0m\u001b[0;34m.\u001b[0m\u001b[0mModel\u001b[0m\u001b[0;34m.\u001b[0m\u001b[0mtrain_on_batch\u001b[0m\u001b[0;34m)\u001b[0m\u001b[0;34m\u001b[0m\u001b[0;34m\u001b[0m\u001b[0m\n",
            "\u001b[0;32m/usr/local/lib/python3.10/dist-packages/keras/utils/traceback_utils.py\u001b[0m in \u001b[0;36merror_handler\u001b[0;34m(*args, **kwargs)\u001b[0m\n",
            "\u001b[0;32m/usr/local/lib/python3.10/dist-packages/keras/engine/training.py\u001b[0m in \u001b[0;36mtf__train_function\u001b[0;34m(iterator)\u001b[0m\n\u001b[1;32m     13\u001b[0m                 \u001b[0;32mtry\u001b[0m\u001b[0;34m:\u001b[0m\u001b[0;34m\u001b[0m\u001b[0;34m\u001b[0m\u001b[0m\n\u001b[1;32m     14\u001b[0m                     \u001b[0mdo_return\u001b[0m \u001b[0;34m=\u001b[0m \u001b[0;32mTrue\u001b[0m\u001b[0;34m\u001b[0m\u001b[0;34m\u001b[0m\u001b[0m\n\u001b[0;32m---> 15\u001b[0;31m                     \u001b[0mretval_\u001b[0m \u001b[0;34m=\u001b[0m \u001b[0mag__\u001b[0m\u001b[0;34m.\u001b[0m\u001b[0mconverted_call\u001b[0m\u001b[0;34m(\u001b[0m\u001b[0mag__\u001b[0m\u001b[0;34m.\u001b[0m\u001b[0mld\u001b[0m\u001b[0;34m(\u001b[0m\u001b[0mstep_function\u001b[0m\u001b[0;34m)\u001b[0m\u001b[0;34m,\u001b[0m \u001b[0;34m(\u001b[0m\u001b[0mag__\u001b[0m\u001b[0;34m.\u001b[0m\u001b[0mld\u001b[0m\u001b[0;34m(\u001b[0m\u001b[0mself\u001b[0m\u001b[0;34m)\u001b[0m\u001b[0;34m,\u001b[0m \u001b[0mag__\u001b[0m\u001b[0;34m.\u001b[0m\u001b[0mld\u001b[0m\u001b[0;34m(\u001b[0m\u001b[0miterator\u001b[0m\u001b[0;34m)\u001b[0m\u001b[0;34m)\u001b[0m\u001b[0;34m,\u001b[0m \u001b[0;32mNone\u001b[0m\u001b[0;34m,\u001b[0m \u001b[0mfscope\u001b[0m\u001b[0;34m)\u001b[0m\u001b[0;34m\u001b[0m\u001b[0;34m\u001b[0m\u001b[0m\n\u001b[0m\u001b[1;32m     16\u001b[0m                 \u001b[0;32mexcept\u001b[0m\u001b[0;34m:\u001b[0m\u001b[0;34m\u001b[0m\u001b[0;34m\u001b[0m\u001b[0m\n\u001b[1;32m     17\u001b[0m                     \u001b[0mdo_return\u001b[0m \u001b[0;34m=\u001b[0m \u001b[0;32mFalse\u001b[0m\u001b[0;34m\u001b[0m\u001b[0;34m\u001b[0m\u001b[0m\n",
            "\u001b[0;32m/usr/local/lib/python3.10/dist-packages/transformers/modeling_tf_utils.py\u001b[0m in \u001b[0;36mtrain_step\u001b[0;34m(self, data)\u001b[0m\n\u001b[1;32m   1628\u001b[0m             \u001b[0;31m# Newer TF train steps leave this out\u001b[0m\u001b[0;34m\u001b[0m\u001b[0;34m\u001b[0m\u001b[0m\n\u001b[1;32m   1629\u001b[0m             \u001b[0mdata\u001b[0m \u001b[0;34m=\u001b[0m \u001b[0mexpand_1d\u001b[0m\u001b[0;34m(\u001b[0m\u001b[0mdata\u001b[0m\u001b[0;34m)\u001b[0m\u001b[0;34m\u001b[0m\u001b[0;34m\u001b[0m\u001b[0m\n\u001b[0;32m-> 1630\u001b[0;31m         \u001b[0mx\u001b[0m\u001b[0;34m,\u001b[0m \u001b[0my\u001b[0m\u001b[0;34m,\u001b[0m \u001b[0msample_weight\u001b[0m \u001b[0;34m=\u001b[0m \u001b[0mkeras\u001b[0m\u001b[0;34m.\u001b[0m\u001b[0mutils\u001b[0m\u001b[0;34m.\u001b[0m\u001b[0munpack_x_y_sample_weight\u001b[0m\u001b[0;34m(\u001b[0m\u001b[0mdata\u001b[0m\u001b[0;34m)\u001b[0m\u001b[0;34m\u001b[0m\u001b[0;34m\u001b[0m\u001b[0m\n\u001b[0m\u001b[1;32m   1631\u001b[0m         \u001b[0;31m# If the inputs are mutable dictionaries, make a shallow copy of them because we will modify\u001b[0m\u001b[0;34m\u001b[0m\u001b[0;34m\u001b[0m\u001b[0m\n\u001b[1;32m   1632\u001b[0m         \u001b[0;31m# them during input/label pre-processing. This avoids surprising the user by wrecking their data.\u001b[0m\u001b[0;34m\u001b[0m\u001b[0;34m\u001b[0m\u001b[0m\n",
            "\u001b[0;31mAttributeError\u001b[0m: in user code:\n\n    File \"/usr/local/lib/python3.10/dist-packages/keras/engine/training.py\", line 1284, in train_function  *\n        return step_function(self, iterator)\n    File \"/usr/local/lib/python3.10/dist-packages/keras/engine/training.py\", line 1268, in step_function  **\n        \n    File \"/usr/local/lib/python3.10/dist-packages/keras/engine/training.py\", line 1249, in run_step  **\n        \n    File \"/usr/local/lib/python3.10/dist-packages/transformers/modeling_tf_utils.py\", line 1630, in train_step\n        x, y, sample_weight = keras.utils.unpack_x_y_sample_weight(data)\n\n    AttributeError: module 'keras.utils' has no attribute 'unpack_x_y_sample_weight'\n"
          ]
        }
      ]
    },
    {
      "cell_type": "markdown",
      "source": [
        "# Inference"
      ],
      "metadata": {
        "id": "qHwrWavra4m9"
      }
    },
    {
      "cell_type": "code",
      "source": [
        "def predict(text):\n",
        "    tokens = tokenizer(text, padding=True,return_tensors='tf')\n",
        "    predictions_prob = model(**tokens).logits.numpy()\n",
        "    predictions = predictions_prob.argmax()\n",
        "    return 'sarcastic' if predictions == 1 else \"not-sarcastic\""
      ],
      "metadata": {
        "execution": {
          "iopub.status.busy": "2023-12-31T11:03:40.882567Z",
          "iopub.execute_input": "2023-12-31T11:03:40.882964Z",
          "iopub.status.idle": "2023-12-31T11:03:40.887887Z",
          "shell.execute_reply.started": "2023-12-31T11:03:40.882931Z",
          "shell.execute_reply": "2023-12-31T11:03:40.886894Z"
        },
        "trusted": true,
        "id": "BV0rvRBRa4m9"
      },
      "execution_count": null,
      "outputs": []
    },
    {
      "cell_type": "code",
      "source": [
        "text = \"\"\"\n",
        "السلام عليكم\n",
        "\"\"\"\n",
        "predict(text)"
      ],
      "metadata": {
        "execution": {
          "iopub.status.busy": "2023-12-31T11:04:47.732131Z",
          "iopub.execute_input": "2023-12-31T11:04:47.732463Z",
          "iopub.status.idle": "2023-12-31T11:04:48.502862Z",
          "shell.execute_reply.started": "2023-12-31T11:04:47.732434Z",
          "shell.execute_reply": "2023-12-31T11:04:48.50199Z"
        },
        "trusted": true,
        "id": "CBAecGjTa4m9"
      },
      "execution_count": null,
      "outputs": []
    }
  ]
}